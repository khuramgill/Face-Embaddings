{
  "cells": [
    {
      "cell_type": "markdown",
      "metadata": {
        "id": "view-in-github",
        "colab_type": "text"
      },
      "source": [
        "<a href=\"https://colab.research.google.com/github/khuramgill/Face-Embaddings/blob/main/Final.ipynb\" target=\"_parent\"><img src=\"https://colab.research.google.com/assets/colab-badge.svg\" alt=\"Open In Colab\"/></a>"
      ]
    },
    {
      "cell_type": "code",
      "execution_count": 18,
      "metadata": {
        "colab": {
          "base_uri": "https://localhost:8080/"
        },
        "collapsed": true,
        "id": "lfkt4gyLYMme",
        "outputId": "c1e85717-513a-4220-c494-5e13ed6b6c66"
      },
      "outputs": [
        {
          "output_type": "stream",
          "name": "stdout",
          "text": [
            "Requirement already satisfied: pinecone in /usr/local/lib/python3.10/dist-packages (5.4.0)\n",
            "Requirement already satisfied: certifi>=2019.11.17 in /usr/local/lib/python3.10/dist-packages (from pinecone) (2024.8.30)\n",
            "Collecting pinecone-plugin-inference<3.0.0,>=2.0.0 (from pinecone)\n",
            "  Using cached pinecone_plugin_inference-2.0.1-py3-none-any.whl.metadata (2.2 kB)\n",
            "Requirement already satisfied: pinecone-plugin-interface<0.0.8,>=0.0.7 in /usr/local/lib/python3.10/dist-packages (from pinecone) (0.0.7)\n",
            "Requirement already satisfied: python-dateutil>=2.5.3 in /usr/local/lib/python3.10/dist-packages (from pinecone) (2.8.2)\n",
            "Requirement already satisfied: tqdm>=4.64.1 in /usr/local/lib/python3.10/dist-packages (from pinecone) (4.66.6)\n",
            "Requirement already satisfied: typing-extensions>=3.7.4 in /usr/local/lib/python3.10/dist-packages (from pinecone) (4.12.2)\n",
            "Requirement already satisfied: urllib3>=1.26.0 in /usr/local/lib/python3.10/dist-packages (from pinecone) (2.2.3)\n",
            "Requirement already satisfied: six>=1.5 in /usr/local/lib/python3.10/dist-packages (from python-dateutil>=2.5.3->pinecone) (1.16.0)\n",
            "Using cached pinecone_plugin_inference-2.0.1-py3-none-any.whl (84 kB)\n",
            "Installing collected packages: pinecone-plugin-inference\n",
            "  Attempting uninstall: pinecone-plugin-inference\n",
            "    Found existing installation: pinecone-plugin-inference 1.1.0\n",
            "    Uninstalling pinecone-plugin-inference-1.1.0:\n",
            "      Successfully uninstalled pinecone-plugin-inference-1.1.0\n",
            "\u001b[31mERROR: pip's dependency resolver does not currently take into account all the packages that are installed. This behaviour is the source of the following dependency conflicts.\n",
            "pinecone-client 5.0.1 requires pinecone-plugin-inference<2.0.0,>=1.0.3, but you have pinecone-plugin-inference 2.0.1 which is incompatible.\u001b[0m\u001b[31m\n",
            "\u001b[0mSuccessfully installed pinecone-plugin-inference-2.0.1\n"
          ]
        }
      ],
      "source": [
        "!pip install pinecone"
      ]
    },
    {
      "cell_type": "code",
      "execution_count": 22,
      "metadata": {
        "id": "8T2ODoZYYb3D"
      },
      "outputs": [],
      "source": [
        "from pinecone import Pinecone\n",
        "\n",
        "pc = Pinecone(api_key=\"pcsk_2agnRW_PJGcuYNduPh4LXPttu1bnT31UninNBGbyZqKDUiCDAxdY7asgDJkLHmR3KCDJzP\")\n",
        "index = pc.Index(\"new\")"
      ]
    },
    {
      "cell_type": "markdown",
      "metadata": {
        "id": "G7Hrp4Y2b5GT"
      },
      "source": [
        "# **Now testing Image Vectors**"
      ]
    },
    {
      "cell_type": "code",
      "execution_count": 28,
      "metadata": {
        "colab": {
          "base_uri": "https://localhost:8080/"
        },
        "collapsed": true,
        "id": "lpvEcKseb-R7",
        "outputId": "65f41362-4394-4c0b-ca97-a0cd6b42883e"
      },
      "outputs": [
        {
          "output_type": "stream",
          "name": "stdout",
          "text": [
            "Requirement already satisfied: open_clip_torch in /usr/local/lib/python3.10/dist-packages (2.29.0)\n",
            "Requirement already satisfied: pinecone-client in /usr/local/lib/python3.10/dist-packages (5.0.1)\n",
            "Requirement already satisfied: torch>=1.9.0 in /usr/local/lib/python3.10/dist-packages (from open_clip_torch) (2.5.1+cu121)\n",
            "Requirement already satisfied: torchvision in /usr/local/lib/python3.10/dist-packages (from open_clip_torch) (0.20.1+cu121)\n",
            "Requirement already satisfied: regex in /usr/local/lib/python3.10/dist-packages (from open_clip_torch) (2024.9.11)\n",
            "Requirement already satisfied: ftfy in /usr/local/lib/python3.10/dist-packages (from open_clip_torch) (6.3.1)\n",
            "Requirement already satisfied: tqdm in /usr/local/lib/python3.10/dist-packages (from open_clip_torch) (4.66.6)\n",
            "Requirement already satisfied: huggingface-hub in /usr/local/lib/python3.10/dist-packages (from open_clip_torch) (0.26.2)\n",
            "Requirement already satisfied: safetensors in /usr/local/lib/python3.10/dist-packages (from open_clip_torch) (0.4.5)\n",
            "Requirement already satisfied: timm in /usr/local/lib/python3.10/dist-packages (from open_clip_torch) (1.0.11)\n",
            "Requirement already satisfied: certifi>=2019.11.17 in /usr/local/lib/python3.10/dist-packages (from pinecone-client) (2024.8.30)\n",
            "Collecting pinecone-plugin-inference<2.0.0,>=1.0.3 (from pinecone-client)\n",
            "  Using cached pinecone_plugin_inference-1.1.0-py3-none-any.whl.metadata (2.2 kB)\n",
            "Requirement already satisfied: pinecone-plugin-interface<0.0.8,>=0.0.7 in /usr/local/lib/python3.10/dist-packages (from pinecone-client) (0.0.7)\n",
            "Requirement already satisfied: typing-extensions>=3.7.4 in /usr/local/lib/python3.10/dist-packages (from pinecone-client) (4.12.2)\n",
            "Requirement already satisfied: urllib3>=1.26.0 in /usr/local/lib/python3.10/dist-packages (from pinecone-client) (2.2.3)\n",
            "Requirement already satisfied: filelock in /usr/local/lib/python3.10/dist-packages (from torch>=1.9.0->open_clip_torch) (3.16.1)\n",
            "Requirement already satisfied: networkx in /usr/local/lib/python3.10/dist-packages (from torch>=1.9.0->open_clip_torch) (3.4.2)\n",
            "Requirement already satisfied: jinja2 in /usr/local/lib/python3.10/dist-packages (from torch>=1.9.0->open_clip_torch) (3.1.4)\n",
            "Requirement already satisfied: fsspec in /usr/local/lib/python3.10/dist-packages (from torch>=1.9.0->open_clip_torch) (2024.10.0)\n",
            "Requirement already satisfied: sympy==1.13.1 in /usr/local/lib/python3.10/dist-packages (from torch>=1.9.0->open_clip_torch) (1.13.1)\n",
            "Requirement already satisfied: mpmath<1.4,>=1.1.0 in /usr/local/lib/python3.10/dist-packages (from sympy==1.13.1->torch>=1.9.0->open_clip_torch) (1.3.0)\n",
            "Requirement already satisfied: wcwidth in /usr/local/lib/python3.10/dist-packages (from ftfy->open_clip_torch) (0.2.13)\n",
            "Requirement already satisfied: packaging>=20.9 in /usr/local/lib/python3.10/dist-packages (from huggingface-hub->open_clip_torch) (24.2)\n",
            "Requirement already satisfied: pyyaml>=5.1 in /usr/local/lib/python3.10/dist-packages (from huggingface-hub->open_clip_torch) (6.0.2)\n",
            "Requirement already satisfied: requests in /usr/local/lib/python3.10/dist-packages (from huggingface-hub->open_clip_torch) (2.32.3)\n",
            "Requirement already satisfied: numpy in /usr/local/lib/python3.10/dist-packages (from torchvision->open_clip_torch) (1.26.4)\n",
            "Requirement already satisfied: pillow!=8.3.*,>=5.3.0 in /usr/local/lib/python3.10/dist-packages (from torchvision->open_clip_torch) (11.0.0)\n",
            "Requirement already satisfied: MarkupSafe>=2.0 in /usr/local/lib/python3.10/dist-packages (from jinja2->torch>=1.9.0->open_clip_torch) (3.0.2)\n",
            "Requirement already satisfied: charset-normalizer<4,>=2 in /usr/local/lib/python3.10/dist-packages (from requests->huggingface-hub->open_clip_torch) (3.4.0)\n",
            "Requirement already satisfied: idna<4,>=2.5 in /usr/local/lib/python3.10/dist-packages (from requests->huggingface-hub->open_clip_torch) (3.10)\n",
            "Using cached pinecone_plugin_inference-1.1.0-py3-none-any.whl (85 kB)\n",
            "Installing collected packages: pinecone-plugin-inference\n",
            "  Attempting uninstall: pinecone-plugin-inference\n",
            "    Found existing installation: pinecone-plugin-inference 2.0.1\n",
            "    Uninstalling pinecone-plugin-inference-2.0.1:\n",
            "      Successfully uninstalled pinecone-plugin-inference-2.0.1\n",
            "\u001b[31mERROR: pip's dependency resolver does not currently take into account all the packages that are installed. This behaviour is the source of the following dependency conflicts.\n",
            "pinecone 5.4.0 requires pinecone-plugin-inference<3.0.0,>=2.0.0, but you have pinecone-plugin-inference 1.1.0 which is incompatible.\u001b[0m\u001b[31m\n",
            "\u001b[0mSuccessfully installed pinecone-plugin-inference-1.1.0\n"
          ]
        }
      ],
      "source": [
        "!pip install open_clip_torch pinecone-client\n"
      ]
    },
    {
      "cell_type": "code",
      "execution_count": 29,
      "metadata": {
        "colab": {
          "base_uri": "https://localhost:8080/"
        },
        "collapsed": true,
        "id": "Oo5EZCZMe0C0",
        "outputId": "acbb8482-cfca-4f52-c8ec-b8c01016f00e"
      },
      "outputs": [
        {
          "output_type": "stream",
          "name": "stdout",
          "text": [
            "Requirement already satisfied: pinecone-client in /usr/local/lib/python3.10/dist-packages (5.0.1)\n",
            "Requirement already satisfied: certifi>=2019.11.17 in /usr/local/lib/python3.10/dist-packages (from pinecone-client) (2024.8.30)\n",
            "Requirement already satisfied: pinecone-plugin-inference<2.0.0,>=1.0.3 in /usr/local/lib/python3.10/dist-packages (from pinecone-client) (1.1.0)\n",
            "Requirement already satisfied: pinecone-plugin-interface<0.0.8,>=0.0.7 in /usr/local/lib/python3.10/dist-packages (from pinecone-client) (0.0.7)\n",
            "Requirement already satisfied: tqdm>=4.64.1 in /usr/local/lib/python3.10/dist-packages (from pinecone-client) (4.66.6)\n",
            "Requirement already satisfied: typing-extensions>=3.7.4 in /usr/local/lib/python3.10/dist-packages (from pinecone-client) (4.12.2)\n",
            "Requirement already satisfied: urllib3>=1.26.0 in /usr/local/lib/python3.10/dist-packages (from pinecone-client) (2.2.3)\n"
          ]
        }
      ],
      "source": [
        "!pip install --upgrade pinecone-client\n"
      ]
    },
    {
      "cell_type": "code",
      "source": [
        "!pip list | grep -E 'Pillow|torch|pinecone|open_clip'\n"
      ],
      "metadata": {
        "colab": {
          "base_uri": "https://localhost:8080/"
        },
        "id": "bF34eL6hdhz-",
        "outputId": "180dbdff-53b2-4e60-f70d-98cd8ce058c0"
      },
      "execution_count": 37,
      "outputs": [
        {
          "output_type": "stream",
          "name": "stdout",
          "text": [
            "open_clip_torch                    2.29.0\n",
            "pinecone                           5.4.0\n",
            "pinecone-client                    5.0.1\n",
            "pinecone-plugin-inference          1.1.0\n",
            "pinecone-plugin-interface          0.0.7\n",
            "torch                              2.5.1+cu121\n",
            "torchaudio                         2.5.1+cu121\n",
            "torchsummary                       1.5.1\n",
            "torchvision                        0.20.1+cu121\n"
          ]
        }
      ]
    },
    {
      "cell_type": "code",
      "execution_count": 2,
      "metadata": {
        "id": "ZOaRO8eGdo3c"
      },
      "outputs": [],
      "source": [
        "from PIL import Image\n",
        "import torch\n",
        "import pinecone\n",
        "import open_clip\n"
      ]
    },
    {
      "cell_type": "code",
      "execution_count": 3,
      "metadata": {
        "colab": {
          "base_uri": "https://localhost:8080/"
        },
        "id": "TAQaFSPGdwAT",
        "outputId": "efacd9f4-03af-4cec-d327-083ede624edc"
      },
      "outputs": [
        {
          "output_type": "stream",
          "name": "stdout",
          "text": [
            "Using device: cpu\n"
          ]
        }
      ],
      "source": [
        "device = \"cuda\" if torch.cuda.is_available() else \"cpu\"\n",
        "print(\"Using device:\", device)\n"
      ]
    },
    {
      "cell_type": "code",
      "execution_count": 5,
      "metadata": {
        "id": "JavGAz4JdynD"
      },
      "outputs": [],
      "source": [
        "from pinecone import Pinecone\n",
        "\n",
        "pc = Pinecone(api_key=\"pcsk_2agnRW_PJGcuYNduPh4LXPttu1bnT31UninNBGbyZqKDUiCDAxdY7asgDJkLHmR3KCDJzP\")\n",
        "index = pc.Index(\"new\")\n",
        "\n",
        "# Connect\n"
      ]
    },
    {
      "cell_type": "markdown",
      "metadata": {
        "id": "kAFTBPhYf420"
      },
      "source": [
        "load Model and its fun"
      ]
    },
    {
      "cell_type": "code",
      "execution_count": 6,
      "metadata": {
        "id": "QiaXFIlsf8E7",
        "colab": {
          "base_uri": "https://localhost:8080/",
          "height": 185,
          "referenced_widgets": [
            "a4eb704b7d424c6f83fcc5e6d75219e0",
            "57913e2f0b994faeb7ec44d1aec9ad93",
            "84817c4c56694798a68f5889b6a5e3c7",
            "cf7a4fbfda82446a8097b190d45212ca",
            "f32f8673205348809ecbb8bb23393e20",
            "30f00e3386284fb18fb783bf716cb1ca",
            "556789df374e47fa9ef189ce2a24d611",
            "b7ef72d57bfd4ad792cc0e73a4d3cf92",
            "a072522b374e4f1db962165e9c30fbdf",
            "be76158ceba54cb790cfcc0843f22688",
            "b6f01c42a53e4dc8ad568b7950095769",
            "6e3436c3ee7547f5b89ac14bc05fb21e",
            "9f714e33a95a44b6bb935c54cb21ff1c",
            "3585f200e7b541c1b84b4785ea501c4f",
            "a6f76c8a67f745f5a8223aafd0031265",
            "b76446a1efa44be0a89e370c68cbb224",
            "443a6e1fcca04ee89cc7fe555834e920",
            "53292b3f7bea4df5a0a509c75c143307",
            "789bac59824343bb9d4b1fd148f41cd4",
            "b58dd0fdf29d42208c67e4937616a63b",
            "52a2465bac7a4c2bb6cba4c136f9473d",
            "b6561a5c544e4e0e86b8b7c2280fe1ff"
          ]
        },
        "outputId": "408b69bf-bc46-4912-f20f-1c60b95e6c53"
      },
      "outputs": [
        {
          "output_type": "stream",
          "name": "stderr",
          "text": [
            "/usr/local/lib/python3.10/dist-packages/huggingface_hub/utils/_auth.py:94: UserWarning: \n",
            "The secret `HF_TOKEN` does not exist in your Colab secrets.\n",
            "To authenticate with the Hugging Face Hub, create a token in your settings tab (https://huggingface.co/settings/tokens), set it as secret in your Google Colab and restart your session.\n",
            "You will be able to reuse this secret in all of your notebooks.\n",
            "Please note that authentication is recommended but still optional to access public models or datasets.\n",
            "  warnings.warn(\n"
          ]
        },
        {
          "output_type": "display_data",
          "data": {
            "text/plain": [
              "open_clip_pytorch_model.bin:   0%|          | 0.00/605M [00:00<?, ?B/s]"
            ],
            "application/vnd.jupyter.widget-view+json": {
              "version_major": 2,
              "version_minor": 0,
              "model_id": "a4eb704b7d424c6f83fcc5e6d75219e0"
            }
          },
          "metadata": {}
        },
        {
          "output_type": "display_data",
          "data": {
            "text/plain": [
              "open_clip_config.json:   0%|          | 0.00/604 [00:00<?, ?B/s]"
            ],
            "application/vnd.jupyter.widget-view+json": {
              "version_major": 2,
              "version_minor": 0,
              "model_id": "6e3436c3ee7547f5b89ac14bc05fb21e"
            }
          },
          "metadata": {}
        }
      ],
      "source": [
        "model, preprocess_train, preprocess_val = open_clip.create_model_and_transforms(\n",
        "    'hf-hub:laion/CLIP-ViT-B-32-laion2B-s34B-b79K'\n",
        ")\n",
        "tokenizer = open_clip.get_tokenizer('hf-hub:laion/CLIP-ViT-B-32-laion2B-s34B-b79K')\n",
        "\n",
        "model = model.to(device)\n"
      ]
    },
    {
      "cell_type": "code",
      "execution_count": 7,
      "metadata": {
        "id": "HvsNioBLgDwc"
      },
      "outputs": [],
      "source": [
        "image_path = '/content/2.jpg'\n",
        "image = Image.open(image_path).convert('RGB')\n",
        "preprocessed_image = preprocess_val(image).unsqueeze(0).to(device)\n"
      ]
    },
    {
      "cell_type": "markdown",
      "metadata": {
        "id": "1g59dqY3h0F7"
      },
      "source": [
        "Generate Embaddings\n"
      ]
    },
    {
      "cell_type": "code",
      "execution_count": 8,
      "metadata": {
        "id": "9z_bJRDBh3dT"
      },
      "outputs": [],
      "source": [
        "with torch.no_grad():\n",
        "    image_embedding = model.encode_image(preprocessed_image).cpu().numpy().flatten()\n"
      ]
    },
    {
      "cell_type": "code",
      "execution_count": 9,
      "metadata": {
        "colab": {
          "base_uri": "https://localhost:8080/"
        },
        "id": "Nhv_jHpRh8yb",
        "outputId": "1d460597-fce3-4315-c863-e79bdedb5ea0"
      },
      "outputs": [
        {
          "output_type": "execute_result",
          "data": {
            "text/plain": [
              "{'upserted_count': 1}"
            ]
          },
          "metadata": {},
          "execution_count": 9
        }
      ],
      "source": [
        "index.upsert(\n",
        "    vectors=[\n",
        "        {\n",
        "            \"id\": \"image1\",\n",
        "            \"values\": image_embedding.tolist(),\n",
        "            \"metadata\": {\"type\": \"image\", \"description\": \"Sample image\"}\n",
        "        }\n",
        "    ],\n",
        "    namespace=\"image_namespace\"\n",
        ")\n"
      ]
    },
    {
      "cell_type": "markdown",
      "metadata": {
        "id": "43csAE7BiUOs"
      },
      "source": [
        "Upload Multiple Images"
      ]
    },
    {
      "cell_type": "code",
      "source": [
        "import requests\n",
        "from PIL import Image\n",
        "import io\n",
        "\n",
        "# List of public image URLs\n",
        "image_urls = [\n",
        "    \"https://drive.google.com/uc?id=1nIrw9H-NDXhjO_8K0_Myzjp8tT_fONxW\",\n",
        "    \"https://drive.google.com/uc?id=1XMjTZ4NtKMkHXgJwhbBlpmbGL0QROTDA\",\n",
        "    \"https://drive.google.com/uc?id=1J6ALJHD2MSc5tI5Sod7r3AdlUnCsWQxu\",\n",
        "    \"https://drive.google.com/uc?id=1peTtrAZIFAX3g46erMA6aZoeSSXzVwrO\",\n",
        "    \"https://drive.google.com/uc?id=1uZe1BWLCuBLC5kQ2yq_VC5UhtpEm1vuN\",\n",
        "    \"https://drive.google.com/uc?id=1J4Cq5o8OTPr3lacf3GG4vX4XuYsBK1ns\",\n",
        "    \"https://drive.google.com/uc?id=1UN_LOwKydi_2dhlvv4nR00iTjr3PEGsu\",\n",
        "    \"https://drive.google.com/uc?id=1TSkrlof8XXjwhwFyj_WiSMIfXqf6QLiZ\",\n",
        "    \"https://drive.google.com/uc?id=1psngmmlrVROetpkaZ1DU4p5wTDOvo5q0\",\n",
        "    \"https://drive.google.com/uc?id=1XKFViNQOk2LCvYI5Qp7blVcnlRMn97y9\",\n",
        "    \"https://drive.google.com/uc?id=1Vt8IFHhKe8m3jo0ymj7WL1QA0nPuO9da\",\n",
        "    \"https://drive.google.com/uc?id=1eP5PSO2_0jiK_xK1X4d2jimLrryj4jGE\",\n",
        "    \"https://drive.google.com/uc?id=1tAUhhywMeFYM9GBV6XqYyfbAokVsz6S7\",\n",
        "    \"https://drive.google.com/uc?id=1aLH-Lwe8liEb6BivWogcs8BaF526e-g1\",\n",
        "    \"https://drive.google.com/uc?id=1XYTzMI6eqZDo_DmSoXuwhwseL884btes\",\n",
        "    \"https://drive.google.com/uc?id=1jB4FT-esHARBI0wFkgM2pqpPEb2x_eJr\",\n",
        "    \"https://drive.google.com/uc?id=11P0kZQr3L4CSzRd5Rlrj7CoWeLM4J92z\",\n",
        "    \"https://drive.google.com/uc?id=1KaQNi10CJEpYAfAR3z-HceLy3AXJLs6g\",\n",
        "    \"https://drive.google.com/uc?id=1hSmMW3jsGUIrGBZ9rSDc3i65qrdAww-C\",\n",
        "    \"https://drive.google.com/uc?id=1gf0XwXmxAhadQGt9bJ2LHeuzhOtBxqaJ\",\n",
        "    \"https://drive.google.com/uc?id=1WQJielsQ0cugpCF0srrkf7clTsxO8-Qo\",\n",
        "    \"https://drive.google.com/uc?id=1SD00dQGxuuy7iEw-6Kv5YI0gPFrkg-Cr\",\n",
        "    \"https://drive.google.com/uc?id=1DErnGjOtIQkRsXbdihyiHSa8K7iQtZmp\",\n",
        "    \"https://drive.google.com/uc?id=108KUJ-v2Tpajosf15AT752NCpP6e1bPS\",\n",
        "    \"https://drive.google.com/uc?id=1E9TcUXwgMafWUBM2u0bE-e_ivgMASBlX\",\n",
        "    \"https://drive.google.com/uc?id=1DgdcfC4OrHljMD1Rl9pW5bWXZ2RBN7hz\",\n",
        "    \"https://drive.google.com/uc?id=1fK1tddE6qXyXRx4jMq51SVoBKdSWAKdf\",\n",
        "    \"https://drive.google.com/uc?id=1rBJblGgAQNtoPYtVR6dYvOOFw1uwM_7o\",\n",
        "    \"https://drive.google.com/uc?id=1lnGQAsjqa-8NPWp3c-TO7fV76tNp3txO\",\n",
        "    \"https://drive.google.com/uc?id=1uirBTH35SxbA30H8N3zgK64WrmJIWSBh\",\n",
        "    \"https://drive.google.com/uc?id=1bmY2oQqpy8KDQCEd6Q68D7VBVWgq8e8-\",\n",
        "    \"https://drive.google.com/uc?id=1y6WfYI5vhoCZU2KYp7bkWTuJnmX_LoHs\",\n",
        "    \"https://drive.google.com/uc?id=1PiXH1DUVtuJmhsnKUA5dE7ggCiMi06RT\",\n",
        "    \"https://drive.google.com/uc?id=1ujG8n-8pOvuN2ZHo1KdVY4p3h0deIm4w\",\n",
        "    \"https://drive.google.com/uc?id=1lcDFPn3snYIX_67NrXkLTUP8YzJT_iPz\",\n",
        "    \"https://drive.google.com/uc?id=1DJbXe5Mwp6U3w5WTupWrTT8YEyRFzUPs\",\n",
        "    \"https://drive.google.com/uc?id=1EZIHmMNGAWaYkmRVIJyQGyP1Y_2oL-lZ\",\n",
        "    \"https://drive.google.com/uc?id=1Hf1KV0QmsMvymk5kpWqWVQMxj5wJSU-c\",\n",
        "    \"https://drive.google.com/uc?id=19vo3_OyxWp0kLvqeoS_A1uW7RDXGTgPn\",\n",
        "    \"https://drive.google.com/uc?id=1K18NSwnCiruE-fdsuRd1AH6XX7vlzCJc\",\n",
        "    \"https://drive.google.com/uc?id=1cWog2eKXO5pFURqJPcxBe6JERF3hdixj\",\n",
        "    \"https://drive.google.com/uc?id=1b9ZK6eh_aKLt_KthDLoUU-RQnW-e73pp\",\n",
        "    \"https://drive.google.com/uc?id=1-g2NvmmvMVhMfwFDIeIByfst9_XSpDie\",\n",
        "    \"https://drive.google.com/uc?id=1gJyXgMloiC2tbwU7m-VQ63C7MGx3vhO3\",\n",
        "    \"https://drive.google.com/uc?id=1CDmXwCjokpnQrjkDvZoZILP5e-7SnMae\",\n",
        "    \"https://drive.google.com/uc?id=1txBPZV2YaMy9hOzceJmNss8rni8NecYZ\",\n",
        "    \"https://drive.google.com/uc?id=1YXh9SoA9cS0Oea7HRD1uoEV4HCIw2fan\",\n",
        "    \"https://drive.google.com/uc?id=167rTHr5U_zhQofmzYv0PwTn-jQyiezNT\",\n",
        "    \"https://drive.google.com/uc?id=1IVhXcsCbMFMZPqdhYovwN_UqXi3MrO77\",\n",
        "    \"https://drive.google.com/uc?id=1c7V4eAFBmULEKf6Gbz1JsIiPiSZRN3F2\"\n",
        "]\n",
        "\n",
        "vectors = []\n",
        "\n",
        "for i, url in enumerate(image_urls):\n",
        "    try:\n",
        "        response = requests.get(url)\n",
        "        response.raise_for_status()\n",
        "\n",
        "        image = Image.open(io.BytesIO(response.content)).convert('RGB')\n",
        "        preprocessed_image = preprocess_val(image).unsqueeze(0).to(device)\n",
        "\n",
        "        with torch.no_grad():\n",
        "            image_embedding = model.encode_image(preprocessed_image).cpu().numpy().flatten()\n",
        "\n",
        "        vectors.append({\n",
        "            \"id\": f\"image_{i}\",\n",
        "            \"values\": image_embedding.tolist(),\n",
        "            \"metadata\": {\"type\": \"image\", \"url\": url, \"description\": f\"Image {i}\"}\n",
        "        })\n",
        "    except Exception as e:\n",
        "        print(f\"Error processing image {url}: {e}\")\n",
        "\n",
        "index.upsert(vectors=vectors, namespace=\"image_namespace\")\n"
      ],
      "metadata": {
        "colab": {
          "base_uri": "https://localhost:8080/"
        },
        "id": "qGe0Xz5ziAMf",
        "outputId": "21f24a51-0af4-4df7-af5a-587bd4c0c04f"
      },
      "execution_count": 13,
      "outputs": [
        {
          "output_type": "execute_result",
          "data": {
            "text/plain": [
              "{'upserted_count': 50}"
            ]
          },
          "metadata": {},
          "execution_count": 13
        }
      ]
    },
    {
      "cell_type": "code",
      "source": [
        "import requests\n",
        "from PIL import Image\n",
        "import torch\n",
        "\n",
        "# Function to download image from URL\n",
        "def download_image(url):\n",
        "    response = requests.get(url, stream=True)\n",
        "    response.raise_for_status()\n",
        "    return Image.open(response.raw).convert(\"RGB\")\n",
        "\n",
        "\n",
        "user_image_url = input(\"Enter the image URL for querying: \")\n",
        "\n",
        "query_image = download_image(user_image_url)\n",
        "query_image = preprocess_val(query_image).unsqueeze(0).to(device)\n",
        "\n",
        "with torch.no_grad():\n",
        "    query_embedding = model.encode_image(query_image).cpu().numpy().flatten()\n",
        "\n",
        "response = index.query(\n",
        "    vector=query_embedding.tolist(),\n",
        "    top_k=5,\n",
        "    include_metadata=True,\n",
        "    namespace=\"image_namespace\"\n",
        ")\n",
        "\n",
        "# Display results\n",
        "print(\"Query Results:\")\n",
        "for match in response[\"matches\"]:\n",
        "    print(f\"ID: {match['id']}, Score: {match['score']}, Metadata: {match['metadata']}\")\n"
      ],
      "metadata": {
        "colab": {
          "base_uri": "https://localhost:8080/"
        },
        "id": "lI8R8ELVkLSV",
        "outputId": "7c7c65a2-e85b-4a6e-f539-560940446163"
      },
      "execution_count": 15,
      "outputs": [
        {
          "output_type": "stream",
          "name": "stdout",
          "text": [
            "Enter the image URL for querying: https://drive.google.com/uc?id=1K18NSwnCiruE-fdsuRd1AH6XX7vlzCJc\n",
            "Query Results:\n",
            "ID: image_39, Score: 0.99999994, Metadata: {'description': 'Image 39', 'type': 'image', 'url': 'https://drive.google.com/uc?id=1K18NSwnCiruE-fdsuRd1AH6XX7vlzCJc'}\n",
            "ID: image_10, Score: 0.862163365, Metadata: {'description': 'Image 10', 'type': 'image', 'url': 'https://drive.google.com/uc?id=1Vt8IFHhKe8m3jo0ymj7WL1QA0nPuO9da'}\n",
            "ID: image_12, Score: 0.839465559, Metadata: {'description': 'Image 12', 'type': 'image', 'url': 'https://drive.google.com/uc?id=1tAUhhywMeFYM9GBV6XqYyfbAokVsz6S7'}\n",
            "ID: image_45, Score: 0.826702654, Metadata: {'description': 'Image 45', 'type': 'image', 'url': 'https://drive.google.com/uc?id=1txBPZV2YaMy9hOzceJmNss8rni8NecYZ'}\n",
            "ID: image_42, Score: 0.825977445, Metadata: {'description': 'Image 42', 'type': 'image', 'url': 'https://drive.google.com/uc?id=1-g2NvmmvMVhMfwFDIeIByfst9_XSpDie'}\n"
          ]
        }
      ]
    }
  ],
  "metadata": {
    "colab": {
      "provenance": [],
      "authorship_tag": "ABX9TyO9NXCgAPePAKFUEfSh2mnb",
      "include_colab_link": true
    },
    "kernelspec": {
      "display_name": "Python 3",
      "name": "python3"
    },
    "language_info": {
      "name": "python"
    },
    "widgets": {
      "application/vnd.jupyter.widget-state+json": {
        "a4eb704b7d424c6f83fcc5e6d75219e0": {
          "model_module": "@jupyter-widgets/controls",
          "model_name": "HBoxModel",
          "model_module_version": "1.5.0",
          "state": {
            "_dom_classes": [],
            "_model_module": "@jupyter-widgets/controls",
            "_model_module_version": "1.5.0",
            "_model_name": "HBoxModel",
            "_view_count": null,
            "_view_module": "@jupyter-widgets/controls",
            "_view_module_version": "1.5.0",
            "_view_name": "HBoxView",
            "box_style": "",
            "children": [
              "IPY_MODEL_57913e2f0b994faeb7ec44d1aec9ad93",
              "IPY_MODEL_84817c4c56694798a68f5889b6a5e3c7",
              "IPY_MODEL_cf7a4fbfda82446a8097b190d45212ca"
            ],
            "layout": "IPY_MODEL_f32f8673205348809ecbb8bb23393e20"
          }
        },
        "57913e2f0b994faeb7ec44d1aec9ad93": {
          "model_module": "@jupyter-widgets/controls",
          "model_name": "HTMLModel",
          "model_module_version": "1.5.0",
          "state": {
            "_dom_classes": [],
            "_model_module": "@jupyter-widgets/controls",
            "_model_module_version": "1.5.0",
            "_model_name": "HTMLModel",
            "_view_count": null,
            "_view_module": "@jupyter-widgets/controls",
            "_view_module_version": "1.5.0",
            "_view_name": "HTMLView",
            "description": "",
            "description_tooltip": null,
            "layout": "IPY_MODEL_30f00e3386284fb18fb783bf716cb1ca",
            "placeholder": "​",
            "style": "IPY_MODEL_556789df374e47fa9ef189ce2a24d611",
            "value": "open_clip_pytorch_model.bin: 100%"
          }
        },
        "84817c4c56694798a68f5889b6a5e3c7": {
          "model_module": "@jupyter-widgets/controls",
          "model_name": "FloatProgressModel",
          "model_module_version": "1.5.0",
          "state": {
            "_dom_classes": [],
            "_model_module": "@jupyter-widgets/controls",
            "_model_module_version": "1.5.0",
            "_model_name": "FloatProgressModel",
            "_view_count": null,
            "_view_module": "@jupyter-widgets/controls",
            "_view_module_version": "1.5.0",
            "_view_name": "ProgressView",
            "bar_style": "success",
            "description": "",
            "description_tooltip": null,
            "layout": "IPY_MODEL_b7ef72d57bfd4ad792cc0e73a4d3cf92",
            "max": 605219813,
            "min": 0,
            "orientation": "horizontal",
            "style": "IPY_MODEL_a072522b374e4f1db962165e9c30fbdf",
            "value": 605219813
          }
        },
        "cf7a4fbfda82446a8097b190d45212ca": {
          "model_module": "@jupyter-widgets/controls",
          "model_name": "HTMLModel",
          "model_module_version": "1.5.0",
          "state": {
            "_dom_classes": [],
            "_model_module": "@jupyter-widgets/controls",
            "_model_module_version": "1.5.0",
            "_model_name": "HTMLModel",
            "_view_count": null,
            "_view_module": "@jupyter-widgets/controls",
            "_view_module_version": "1.5.0",
            "_view_name": "HTMLView",
            "description": "",
            "description_tooltip": null,
            "layout": "IPY_MODEL_be76158ceba54cb790cfcc0843f22688",
            "placeholder": "​",
            "style": "IPY_MODEL_b6f01c42a53e4dc8ad568b7950095769",
            "value": " 605M/605M [00:08&lt;00:00, 97.5MB/s]"
          }
        },
        "f32f8673205348809ecbb8bb23393e20": {
          "model_module": "@jupyter-widgets/base",
          "model_name": "LayoutModel",
          "model_module_version": "1.2.0",
          "state": {
            "_model_module": "@jupyter-widgets/base",
            "_model_module_version": "1.2.0",
            "_model_name": "LayoutModel",
            "_view_count": null,
            "_view_module": "@jupyter-widgets/base",
            "_view_module_version": "1.2.0",
            "_view_name": "LayoutView",
            "align_content": null,
            "align_items": null,
            "align_self": null,
            "border": null,
            "bottom": null,
            "display": null,
            "flex": null,
            "flex_flow": null,
            "grid_area": null,
            "grid_auto_columns": null,
            "grid_auto_flow": null,
            "grid_auto_rows": null,
            "grid_column": null,
            "grid_gap": null,
            "grid_row": null,
            "grid_template_areas": null,
            "grid_template_columns": null,
            "grid_template_rows": null,
            "height": null,
            "justify_content": null,
            "justify_items": null,
            "left": null,
            "margin": null,
            "max_height": null,
            "max_width": null,
            "min_height": null,
            "min_width": null,
            "object_fit": null,
            "object_position": null,
            "order": null,
            "overflow": null,
            "overflow_x": null,
            "overflow_y": null,
            "padding": null,
            "right": null,
            "top": null,
            "visibility": null,
            "width": null
          }
        },
        "30f00e3386284fb18fb783bf716cb1ca": {
          "model_module": "@jupyter-widgets/base",
          "model_name": "LayoutModel",
          "model_module_version": "1.2.0",
          "state": {
            "_model_module": "@jupyter-widgets/base",
            "_model_module_version": "1.2.0",
            "_model_name": "LayoutModel",
            "_view_count": null,
            "_view_module": "@jupyter-widgets/base",
            "_view_module_version": "1.2.0",
            "_view_name": "LayoutView",
            "align_content": null,
            "align_items": null,
            "align_self": null,
            "border": null,
            "bottom": null,
            "display": null,
            "flex": null,
            "flex_flow": null,
            "grid_area": null,
            "grid_auto_columns": null,
            "grid_auto_flow": null,
            "grid_auto_rows": null,
            "grid_column": null,
            "grid_gap": null,
            "grid_row": null,
            "grid_template_areas": null,
            "grid_template_columns": null,
            "grid_template_rows": null,
            "height": null,
            "justify_content": null,
            "justify_items": null,
            "left": null,
            "margin": null,
            "max_height": null,
            "max_width": null,
            "min_height": null,
            "min_width": null,
            "object_fit": null,
            "object_position": null,
            "order": null,
            "overflow": null,
            "overflow_x": null,
            "overflow_y": null,
            "padding": null,
            "right": null,
            "top": null,
            "visibility": null,
            "width": null
          }
        },
        "556789df374e47fa9ef189ce2a24d611": {
          "model_module": "@jupyter-widgets/controls",
          "model_name": "DescriptionStyleModel",
          "model_module_version": "1.5.0",
          "state": {
            "_model_module": "@jupyter-widgets/controls",
            "_model_module_version": "1.5.0",
            "_model_name": "DescriptionStyleModel",
            "_view_count": null,
            "_view_module": "@jupyter-widgets/base",
            "_view_module_version": "1.2.0",
            "_view_name": "StyleView",
            "description_width": ""
          }
        },
        "b7ef72d57bfd4ad792cc0e73a4d3cf92": {
          "model_module": "@jupyter-widgets/base",
          "model_name": "LayoutModel",
          "model_module_version": "1.2.0",
          "state": {
            "_model_module": "@jupyter-widgets/base",
            "_model_module_version": "1.2.0",
            "_model_name": "LayoutModel",
            "_view_count": null,
            "_view_module": "@jupyter-widgets/base",
            "_view_module_version": "1.2.0",
            "_view_name": "LayoutView",
            "align_content": null,
            "align_items": null,
            "align_self": null,
            "border": null,
            "bottom": null,
            "display": null,
            "flex": null,
            "flex_flow": null,
            "grid_area": null,
            "grid_auto_columns": null,
            "grid_auto_flow": null,
            "grid_auto_rows": null,
            "grid_column": null,
            "grid_gap": null,
            "grid_row": null,
            "grid_template_areas": null,
            "grid_template_columns": null,
            "grid_template_rows": null,
            "height": null,
            "justify_content": null,
            "justify_items": null,
            "left": null,
            "margin": null,
            "max_height": null,
            "max_width": null,
            "min_height": null,
            "min_width": null,
            "object_fit": null,
            "object_position": null,
            "order": null,
            "overflow": null,
            "overflow_x": null,
            "overflow_y": null,
            "padding": null,
            "right": null,
            "top": null,
            "visibility": null,
            "width": null
          }
        },
        "a072522b374e4f1db962165e9c30fbdf": {
          "model_module": "@jupyter-widgets/controls",
          "model_name": "ProgressStyleModel",
          "model_module_version": "1.5.0",
          "state": {
            "_model_module": "@jupyter-widgets/controls",
            "_model_module_version": "1.5.0",
            "_model_name": "ProgressStyleModel",
            "_view_count": null,
            "_view_module": "@jupyter-widgets/base",
            "_view_module_version": "1.2.0",
            "_view_name": "StyleView",
            "bar_color": null,
            "description_width": ""
          }
        },
        "be76158ceba54cb790cfcc0843f22688": {
          "model_module": "@jupyter-widgets/base",
          "model_name": "LayoutModel",
          "model_module_version": "1.2.0",
          "state": {
            "_model_module": "@jupyter-widgets/base",
            "_model_module_version": "1.2.0",
            "_model_name": "LayoutModel",
            "_view_count": null,
            "_view_module": "@jupyter-widgets/base",
            "_view_module_version": "1.2.0",
            "_view_name": "LayoutView",
            "align_content": null,
            "align_items": null,
            "align_self": null,
            "border": null,
            "bottom": null,
            "display": null,
            "flex": null,
            "flex_flow": null,
            "grid_area": null,
            "grid_auto_columns": null,
            "grid_auto_flow": null,
            "grid_auto_rows": null,
            "grid_column": null,
            "grid_gap": null,
            "grid_row": null,
            "grid_template_areas": null,
            "grid_template_columns": null,
            "grid_template_rows": null,
            "height": null,
            "justify_content": null,
            "justify_items": null,
            "left": null,
            "margin": null,
            "max_height": null,
            "max_width": null,
            "min_height": null,
            "min_width": null,
            "object_fit": null,
            "object_position": null,
            "order": null,
            "overflow": null,
            "overflow_x": null,
            "overflow_y": null,
            "padding": null,
            "right": null,
            "top": null,
            "visibility": null,
            "width": null
          }
        },
        "b6f01c42a53e4dc8ad568b7950095769": {
          "model_module": "@jupyter-widgets/controls",
          "model_name": "DescriptionStyleModel",
          "model_module_version": "1.5.0",
          "state": {
            "_model_module": "@jupyter-widgets/controls",
            "_model_module_version": "1.5.0",
            "_model_name": "DescriptionStyleModel",
            "_view_count": null,
            "_view_module": "@jupyter-widgets/base",
            "_view_module_version": "1.2.0",
            "_view_name": "StyleView",
            "description_width": ""
          }
        },
        "6e3436c3ee7547f5b89ac14bc05fb21e": {
          "model_module": "@jupyter-widgets/controls",
          "model_name": "HBoxModel",
          "model_module_version": "1.5.0",
          "state": {
            "_dom_classes": [],
            "_model_module": "@jupyter-widgets/controls",
            "_model_module_version": "1.5.0",
            "_model_name": "HBoxModel",
            "_view_count": null,
            "_view_module": "@jupyter-widgets/controls",
            "_view_module_version": "1.5.0",
            "_view_name": "HBoxView",
            "box_style": "",
            "children": [
              "IPY_MODEL_9f714e33a95a44b6bb935c54cb21ff1c",
              "IPY_MODEL_3585f200e7b541c1b84b4785ea501c4f",
              "IPY_MODEL_a6f76c8a67f745f5a8223aafd0031265"
            ],
            "layout": "IPY_MODEL_b76446a1efa44be0a89e370c68cbb224"
          }
        },
        "9f714e33a95a44b6bb935c54cb21ff1c": {
          "model_module": "@jupyter-widgets/controls",
          "model_name": "HTMLModel",
          "model_module_version": "1.5.0",
          "state": {
            "_dom_classes": [],
            "_model_module": "@jupyter-widgets/controls",
            "_model_module_version": "1.5.0",
            "_model_name": "HTMLModel",
            "_view_count": null,
            "_view_module": "@jupyter-widgets/controls",
            "_view_module_version": "1.5.0",
            "_view_name": "HTMLView",
            "description": "",
            "description_tooltip": null,
            "layout": "IPY_MODEL_443a6e1fcca04ee89cc7fe555834e920",
            "placeholder": "​",
            "style": "IPY_MODEL_53292b3f7bea4df5a0a509c75c143307",
            "value": "open_clip_config.json: 100%"
          }
        },
        "3585f200e7b541c1b84b4785ea501c4f": {
          "model_module": "@jupyter-widgets/controls",
          "model_name": "FloatProgressModel",
          "model_module_version": "1.5.0",
          "state": {
            "_dom_classes": [],
            "_model_module": "@jupyter-widgets/controls",
            "_model_module_version": "1.5.0",
            "_model_name": "FloatProgressModel",
            "_view_count": null,
            "_view_module": "@jupyter-widgets/controls",
            "_view_module_version": "1.5.0",
            "_view_name": "ProgressView",
            "bar_style": "success",
            "description": "",
            "description_tooltip": null,
            "layout": "IPY_MODEL_789bac59824343bb9d4b1fd148f41cd4",
            "max": 604,
            "min": 0,
            "orientation": "horizontal",
            "style": "IPY_MODEL_b58dd0fdf29d42208c67e4937616a63b",
            "value": 604
          }
        },
        "a6f76c8a67f745f5a8223aafd0031265": {
          "model_module": "@jupyter-widgets/controls",
          "model_name": "HTMLModel",
          "model_module_version": "1.5.0",
          "state": {
            "_dom_classes": [],
            "_model_module": "@jupyter-widgets/controls",
            "_model_module_version": "1.5.0",
            "_model_name": "HTMLModel",
            "_view_count": null,
            "_view_module": "@jupyter-widgets/controls",
            "_view_module_version": "1.5.0",
            "_view_name": "HTMLView",
            "description": "",
            "description_tooltip": null,
            "layout": "IPY_MODEL_52a2465bac7a4c2bb6cba4c136f9473d",
            "placeholder": "​",
            "style": "IPY_MODEL_b6561a5c544e4e0e86b8b7c2280fe1ff",
            "value": " 604/604 [00:00&lt;00:00, 37.5kB/s]"
          }
        },
        "b76446a1efa44be0a89e370c68cbb224": {
          "model_module": "@jupyter-widgets/base",
          "model_name": "LayoutModel",
          "model_module_version": "1.2.0",
          "state": {
            "_model_module": "@jupyter-widgets/base",
            "_model_module_version": "1.2.0",
            "_model_name": "LayoutModel",
            "_view_count": null,
            "_view_module": "@jupyter-widgets/base",
            "_view_module_version": "1.2.0",
            "_view_name": "LayoutView",
            "align_content": null,
            "align_items": null,
            "align_self": null,
            "border": null,
            "bottom": null,
            "display": null,
            "flex": null,
            "flex_flow": null,
            "grid_area": null,
            "grid_auto_columns": null,
            "grid_auto_flow": null,
            "grid_auto_rows": null,
            "grid_column": null,
            "grid_gap": null,
            "grid_row": null,
            "grid_template_areas": null,
            "grid_template_columns": null,
            "grid_template_rows": null,
            "height": null,
            "justify_content": null,
            "justify_items": null,
            "left": null,
            "margin": null,
            "max_height": null,
            "max_width": null,
            "min_height": null,
            "min_width": null,
            "object_fit": null,
            "object_position": null,
            "order": null,
            "overflow": null,
            "overflow_x": null,
            "overflow_y": null,
            "padding": null,
            "right": null,
            "top": null,
            "visibility": null,
            "width": null
          }
        },
        "443a6e1fcca04ee89cc7fe555834e920": {
          "model_module": "@jupyter-widgets/base",
          "model_name": "LayoutModel",
          "model_module_version": "1.2.0",
          "state": {
            "_model_module": "@jupyter-widgets/base",
            "_model_module_version": "1.2.0",
            "_model_name": "LayoutModel",
            "_view_count": null,
            "_view_module": "@jupyter-widgets/base",
            "_view_module_version": "1.2.0",
            "_view_name": "LayoutView",
            "align_content": null,
            "align_items": null,
            "align_self": null,
            "border": null,
            "bottom": null,
            "display": null,
            "flex": null,
            "flex_flow": null,
            "grid_area": null,
            "grid_auto_columns": null,
            "grid_auto_flow": null,
            "grid_auto_rows": null,
            "grid_column": null,
            "grid_gap": null,
            "grid_row": null,
            "grid_template_areas": null,
            "grid_template_columns": null,
            "grid_template_rows": null,
            "height": null,
            "justify_content": null,
            "justify_items": null,
            "left": null,
            "margin": null,
            "max_height": null,
            "max_width": null,
            "min_height": null,
            "min_width": null,
            "object_fit": null,
            "object_position": null,
            "order": null,
            "overflow": null,
            "overflow_x": null,
            "overflow_y": null,
            "padding": null,
            "right": null,
            "top": null,
            "visibility": null,
            "width": null
          }
        },
        "53292b3f7bea4df5a0a509c75c143307": {
          "model_module": "@jupyter-widgets/controls",
          "model_name": "DescriptionStyleModel",
          "model_module_version": "1.5.0",
          "state": {
            "_model_module": "@jupyter-widgets/controls",
            "_model_module_version": "1.5.0",
            "_model_name": "DescriptionStyleModel",
            "_view_count": null,
            "_view_module": "@jupyter-widgets/base",
            "_view_module_version": "1.2.0",
            "_view_name": "StyleView",
            "description_width": ""
          }
        },
        "789bac59824343bb9d4b1fd148f41cd4": {
          "model_module": "@jupyter-widgets/base",
          "model_name": "LayoutModel",
          "model_module_version": "1.2.0",
          "state": {
            "_model_module": "@jupyter-widgets/base",
            "_model_module_version": "1.2.0",
            "_model_name": "LayoutModel",
            "_view_count": null,
            "_view_module": "@jupyter-widgets/base",
            "_view_module_version": "1.2.0",
            "_view_name": "LayoutView",
            "align_content": null,
            "align_items": null,
            "align_self": null,
            "border": null,
            "bottom": null,
            "display": null,
            "flex": null,
            "flex_flow": null,
            "grid_area": null,
            "grid_auto_columns": null,
            "grid_auto_flow": null,
            "grid_auto_rows": null,
            "grid_column": null,
            "grid_gap": null,
            "grid_row": null,
            "grid_template_areas": null,
            "grid_template_columns": null,
            "grid_template_rows": null,
            "height": null,
            "justify_content": null,
            "justify_items": null,
            "left": null,
            "margin": null,
            "max_height": null,
            "max_width": null,
            "min_height": null,
            "min_width": null,
            "object_fit": null,
            "object_position": null,
            "order": null,
            "overflow": null,
            "overflow_x": null,
            "overflow_y": null,
            "padding": null,
            "right": null,
            "top": null,
            "visibility": null,
            "width": null
          }
        },
        "b58dd0fdf29d42208c67e4937616a63b": {
          "model_module": "@jupyter-widgets/controls",
          "model_name": "ProgressStyleModel",
          "model_module_version": "1.5.0",
          "state": {
            "_model_module": "@jupyter-widgets/controls",
            "_model_module_version": "1.5.0",
            "_model_name": "ProgressStyleModel",
            "_view_count": null,
            "_view_module": "@jupyter-widgets/base",
            "_view_module_version": "1.2.0",
            "_view_name": "StyleView",
            "bar_color": null,
            "description_width": ""
          }
        },
        "52a2465bac7a4c2bb6cba4c136f9473d": {
          "model_module": "@jupyter-widgets/base",
          "model_name": "LayoutModel",
          "model_module_version": "1.2.0",
          "state": {
            "_model_module": "@jupyter-widgets/base",
            "_model_module_version": "1.2.0",
            "_model_name": "LayoutModel",
            "_view_count": null,
            "_view_module": "@jupyter-widgets/base",
            "_view_module_version": "1.2.0",
            "_view_name": "LayoutView",
            "align_content": null,
            "align_items": null,
            "align_self": null,
            "border": null,
            "bottom": null,
            "display": null,
            "flex": null,
            "flex_flow": null,
            "grid_area": null,
            "grid_auto_columns": null,
            "grid_auto_flow": null,
            "grid_auto_rows": null,
            "grid_column": null,
            "grid_gap": null,
            "grid_row": null,
            "grid_template_areas": null,
            "grid_template_columns": null,
            "grid_template_rows": null,
            "height": null,
            "justify_content": null,
            "justify_items": null,
            "left": null,
            "margin": null,
            "max_height": null,
            "max_width": null,
            "min_height": null,
            "min_width": null,
            "object_fit": null,
            "object_position": null,
            "order": null,
            "overflow": null,
            "overflow_x": null,
            "overflow_y": null,
            "padding": null,
            "right": null,
            "top": null,
            "visibility": null,
            "width": null
          }
        },
        "b6561a5c544e4e0e86b8b7c2280fe1ff": {
          "model_module": "@jupyter-widgets/controls",
          "model_name": "DescriptionStyleModel",
          "model_module_version": "1.5.0",
          "state": {
            "_model_module": "@jupyter-widgets/controls",
            "_model_module_version": "1.5.0",
            "_model_name": "DescriptionStyleModel",
            "_view_count": null,
            "_view_module": "@jupyter-widgets/base",
            "_view_module_version": "1.2.0",
            "_view_name": "StyleView",
            "description_width": ""
          }
        }
      }
    }
  },
  "nbformat": 4,
  "nbformat_minor": 0
}