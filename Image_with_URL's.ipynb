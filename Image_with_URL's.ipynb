{
  "nbformat": 4,
  "nbformat_minor": 0,
  "metadata": {
    "colab": {
      "provenance": [],
      "authorship_tag": "ABX9TyM28BTzfypSPtiuptAcNJsX",
      "include_colab_link": true
    },
    "kernelspec": {
      "name": "python3",
      "display_name": "Python 3"
    },
    "language_info": {
      "name": "python"
    },
    "widgets": {
      "application/vnd.jupyter.widget-state+json": {
        "5729181c3250446f8ba81607f33f0dfd": {
          "model_module": "@jupyter-widgets/controls",
          "model_name": "HBoxModel",
          "model_module_version": "1.5.0",
          "state": {
            "_dom_classes": [],
            "_model_module": "@jupyter-widgets/controls",
            "_model_module_version": "1.5.0",
            "_model_name": "HBoxModel",
            "_view_count": null,
            "_view_module": "@jupyter-widgets/controls",
            "_view_module_version": "1.5.0",
            "_view_name": "HBoxView",
            "box_style": "",
            "children": [
              "IPY_MODEL_eefcb46a771944959b0ef02f9ea7f200",
              "IPY_MODEL_a1f165a392a440449c734b769649e6f5",
              "IPY_MODEL_d65b5a3a8d7e49e88287b08ebd72ad25"
            ],
            "layout": "IPY_MODEL_a0a71936a0d449388476e68adde3e13a"
          }
        },
        "eefcb46a771944959b0ef02f9ea7f200": {
          "model_module": "@jupyter-widgets/controls",
          "model_name": "HTMLModel",
          "model_module_version": "1.5.0",
          "state": {
            "_dom_classes": [],
            "_model_module": "@jupyter-widgets/controls",
            "_model_module_version": "1.5.0",
            "_model_name": "HTMLModel",
            "_view_count": null,
            "_view_module": "@jupyter-widgets/controls",
            "_view_module_version": "1.5.0",
            "_view_name": "HTMLView",
            "description": "",
            "description_tooltip": null,
            "layout": "IPY_MODEL_965bb4fca7eb4ca28c70781e4253cacb",
            "placeholder": "​",
            "style": "IPY_MODEL_982caa61ce834c6abef31f2d3a62d7c5",
            "value": "open_clip_pytorch_model.bin: 100%"
          }
        },
        "a1f165a392a440449c734b769649e6f5": {
          "model_module": "@jupyter-widgets/controls",
          "model_name": "FloatProgressModel",
          "model_module_version": "1.5.0",
          "state": {
            "_dom_classes": [],
            "_model_module": "@jupyter-widgets/controls",
            "_model_module_version": "1.5.0",
            "_model_name": "FloatProgressModel",
            "_view_count": null,
            "_view_module": "@jupyter-widgets/controls",
            "_view_module_version": "1.5.0",
            "_view_name": "ProgressView",
            "bar_style": "success",
            "description": "",
            "description_tooltip": null,
            "layout": "IPY_MODEL_8ff0bc6f74ed4979a31a080154df168c",
            "max": 605219813,
            "min": 0,
            "orientation": "horizontal",
            "style": "IPY_MODEL_c5f7b53991924171b7036fd6cff84f93",
            "value": 605219813
          }
        },
        "d65b5a3a8d7e49e88287b08ebd72ad25": {
          "model_module": "@jupyter-widgets/controls",
          "model_name": "HTMLModel",
          "model_module_version": "1.5.0",
          "state": {
            "_dom_classes": [],
            "_model_module": "@jupyter-widgets/controls",
            "_model_module_version": "1.5.0",
            "_model_name": "HTMLModel",
            "_view_count": null,
            "_view_module": "@jupyter-widgets/controls",
            "_view_module_version": "1.5.0",
            "_view_name": "HTMLView",
            "description": "",
            "description_tooltip": null,
            "layout": "IPY_MODEL_a132f44c62474dc2bbd46660a5ff12e1",
            "placeholder": "​",
            "style": "IPY_MODEL_54480f82aba44a2eac9e963bab0f564c",
            "value": " 605M/605M [00:05&lt;00:00, 110MB/s]"
          }
        },
        "a0a71936a0d449388476e68adde3e13a": {
          "model_module": "@jupyter-widgets/base",
          "model_name": "LayoutModel",
          "model_module_version": "1.2.0",
          "state": {
            "_model_module": "@jupyter-widgets/base",
            "_model_module_version": "1.2.0",
            "_model_name": "LayoutModel",
            "_view_count": null,
            "_view_module": "@jupyter-widgets/base",
            "_view_module_version": "1.2.0",
            "_view_name": "LayoutView",
            "align_content": null,
            "align_items": null,
            "align_self": null,
            "border": null,
            "bottom": null,
            "display": null,
            "flex": null,
            "flex_flow": null,
            "grid_area": null,
            "grid_auto_columns": null,
            "grid_auto_flow": null,
            "grid_auto_rows": null,
            "grid_column": null,
            "grid_gap": null,
            "grid_row": null,
            "grid_template_areas": null,
            "grid_template_columns": null,
            "grid_template_rows": null,
            "height": null,
            "justify_content": null,
            "justify_items": null,
            "left": null,
            "margin": null,
            "max_height": null,
            "max_width": null,
            "min_height": null,
            "min_width": null,
            "object_fit": null,
            "object_position": null,
            "order": null,
            "overflow": null,
            "overflow_x": null,
            "overflow_y": null,
            "padding": null,
            "right": null,
            "top": null,
            "visibility": null,
            "width": null
          }
        },
        "965bb4fca7eb4ca28c70781e4253cacb": {
          "model_module": "@jupyter-widgets/base",
          "model_name": "LayoutModel",
          "model_module_version": "1.2.0",
          "state": {
            "_model_module": "@jupyter-widgets/base",
            "_model_module_version": "1.2.0",
            "_model_name": "LayoutModel",
            "_view_count": null,
            "_view_module": "@jupyter-widgets/base",
            "_view_module_version": "1.2.0",
            "_view_name": "LayoutView",
            "align_content": null,
            "align_items": null,
            "align_self": null,
            "border": null,
            "bottom": null,
            "display": null,
            "flex": null,
            "flex_flow": null,
            "grid_area": null,
            "grid_auto_columns": null,
            "grid_auto_flow": null,
            "grid_auto_rows": null,
            "grid_column": null,
            "grid_gap": null,
            "grid_row": null,
            "grid_template_areas": null,
            "grid_template_columns": null,
            "grid_template_rows": null,
            "height": null,
            "justify_content": null,
            "justify_items": null,
            "left": null,
            "margin": null,
            "max_height": null,
            "max_width": null,
            "min_height": null,
            "min_width": null,
            "object_fit": null,
            "object_position": null,
            "order": null,
            "overflow": null,
            "overflow_x": null,
            "overflow_y": null,
            "padding": null,
            "right": null,
            "top": null,
            "visibility": null,
            "width": null
          }
        },
        "982caa61ce834c6abef31f2d3a62d7c5": {
          "model_module": "@jupyter-widgets/controls",
          "model_name": "DescriptionStyleModel",
          "model_module_version": "1.5.0",
          "state": {
            "_model_module": "@jupyter-widgets/controls",
            "_model_module_version": "1.5.0",
            "_model_name": "DescriptionStyleModel",
            "_view_count": null,
            "_view_module": "@jupyter-widgets/base",
            "_view_module_version": "1.2.0",
            "_view_name": "StyleView",
            "description_width": ""
          }
        },
        "8ff0bc6f74ed4979a31a080154df168c": {
          "model_module": "@jupyter-widgets/base",
          "model_name": "LayoutModel",
          "model_module_version": "1.2.0",
          "state": {
            "_model_module": "@jupyter-widgets/base",
            "_model_module_version": "1.2.0",
            "_model_name": "LayoutModel",
            "_view_count": null,
            "_view_module": "@jupyter-widgets/base",
            "_view_module_version": "1.2.0",
            "_view_name": "LayoutView",
            "align_content": null,
            "align_items": null,
            "align_self": null,
            "border": null,
            "bottom": null,
            "display": null,
            "flex": null,
            "flex_flow": null,
            "grid_area": null,
            "grid_auto_columns": null,
            "grid_auto_flow": null,
            "grid_auto_rows": null,
            "grid_column": null,
            "grid_gap": null,
            "grid_row": null,
            "grid_template_areas": null,
            "grid_template_columns": null,
            "grid_template_rows": null,
            "height": null,
            "justify_content": null,
            "justify_items": null,
            "left": null,
            "margin": null,
            "max_height": null,
            "max_width": null,
            "min_height": null,
            "min_width": null,
            "object_fit": null,
            "object_position": null,
            "order": null,
            "overflow": null,
            "overflow_x": null,
            "overflow_y": null,
            "padding": null,
            "right": null,
            "top": null,
            "visibility": null,
            "width": null
          }
        },
        "c5f7b53991924171b7036fd6cff84f93": {
          "model_module": "@jupyter-widgets/controls",
          "model_name": "ProgressStyleModel",
          "model_module_version": "1.5.0",
          "state": {
            "_model_module": "@jupyter-widgets/controls",
            "_model_module_version": "1.5.0",
            "_model_name": "ProgressStyleModel",
            "_view_count": null,
            "_view_module": "@jupyter-widgets/base",
            "_view_module_version": "1.2.0",
            "_view_name": "StyleView",
            "bar_color": null,
            "description_width": ""
          }
        },
        "a132f44c62474dc2bbd46660a5ff12e1": {
          "model_module": "@jupyter-widgets/base",
          "model_name": "LayoutModel",
          "model_module_version": "1.2.0",
          "state": {
            "_model_module": "@jupyter-widgets/base",
            "_model_module_version": "1.2.0",
            "_model_name": "LayoutModel",
            "_view_count": null,
            "_view_module": "@jupyter-widgets/base",
            "_view_module_version": "1.2.0",
            "_view_name": "LayoutView",
            "align_content": null,
            "align_items": null,
            "align_self": null,
            "border": null,
            "bottom": null,
            "display": null,
            "flex": null,
            "flex_flow": null,
            "grid_area": null,
            "grid_auto_columns": null,
            "grid_auto_flow": null,
            "grid_auto_rows": null,
            "grid_column": null,
            "grid_gap": null,
            "grid_row": null,
            "grid_template_areas": null,
            "grid_template_columns": null,
            "grid_template_rows": null,
            "height": null,
            "justify_content": null,
            "justify_items": null,
            "left": null,
            "margin": null,
            "max_height": null,
            "max_width": null,
            "min_height": null,
            "min_width": null,
            "object_fit": null,
            "object_position": null,
            "order": null,
            "overflow": null,
            "overflow_x": null,
            "overflow_y": null,
            "padding": null,
            "right": null,
            "top": null,
            "visibility": null,
            "width": null
          }
        },
        "54480f82aba44a2eac9e963bab0f564c": {
          "model_module": "@jupyter-widgets/controls",
          "model_name": "DescriptionStyleModel",
          "model_module_version": "1.5.0",
          "state": {
            "_model_module": "@jupyter-widgets/controls",
            "_model_module_version": "1.5.0",
            "_model_name": "DescriptionStyleModel",
            "_view_count": null,
            "_view_module": "@jupyter-widgets/base",
            "_view_module_version": "1.2.0",
            "_view_name": "StyleView",
            "description_width": ""
          }
        },
        "f713e763c87d4e198d4c581777bdabda": {
          "model_module": "@jupyter-widgets/controls",
          "model_name": "HBoxModel",
          "model_module_version": "1.5.0",
          "state": {
            "_dom_classes": [],
            "_model_module": "@jupyter-widgets/controls",
            "_model_module_version": "1.5.0",
            "_model_name": "HBoxModel",
            "_view_count": null,
            "_view_module": "@jupyter-widgets/controls",
            "_view_module_version": "1.5.0",
            "_view_name": "HBoxView",
            "box_style": "",
            "children": [
              "IPY_MODEL_d60b088f96b046fea7de0245b623b0b5",
              "IPY_MODEL_ef6e38d2d6e54a338adce9ee40933287",
              "IPY_MODEL_46d29f99164f48d085145c6096a4f046"
            ],
            "layout": "IPY_MODEL_706c6d180fed4451b4f3b480e98fb485"
          }
        },
        "d60b088f96b046fea7de0245b623b0b5": {
          "model_module": "@jupyter-widgets/controls",
          "model_name": "HTMLModel",
          "model_module_version": "1.5.0",
          "state": {
            "_dom_classes": [],
            "_model_module": "@jupyter-widgets/controls",
            "_model_module_version": "1.5.0",
            "_model_name": "HTMLModel",
            "_view_count": null,
            "_view_module": "@jupyter-widgets/controls",
            "_view_module_version": "1.5.0",
            "_view_name": "HTMLView",
            "description": "",
            "description_tooltip": null,
            "layout": "IPY_MODEL_3620d293703b4b08b8b6bfbbaacec39d",
            "placeholder": "​",
            "style": "IPY_MODEL_094d9521a22c4b52bc8d76443687a4a3",
            "value": "open_clip_config.json: 100%"
          }
        },
        "ef6e38d2d6e54a338adce9ee40933287": {
          "model_module": "@jupyter-widgets/controls",
          "model_name": "FloatProgressModel",
          "model_module_version": "1.5.0",
          "state": {
            "_dom_classes": [],
            "_model_module": "@jupyter-widgets/controls",
            "_model_module_version": "1.5.0",
            "_model_name": "FloatProgressModel",
            "_view_count": null,
            "_view_module": "@jupyter-widgets/controls",
            "_view_module_version": "1.5.0",
            "_view_name": "ProgressView",
            "bar_style": "success",
            "description": "",
            "description_tooltip": null,
            "layout": "IPY_MODEL_80eea4cfbee048d79e7305ed40296d8a",
            "max": 604,
            "min": 0,
            "orientation": "horizontal",
            "style": "IPY_MODEL_f37730245d1740a48cbfc45afa20045e",
            "value": 604
          }
        },
        "46d29f99164f48d085145c6096a4f046": {
          "model_module": "@jupyter-widgets/controls",
          "model_name": "HTMLModel",
          "model_module_version": "1.5.0",
          "state": {
            "_dom_classes": [],
            "_model_module": "@jupyter-widgets/controls",
            "_model_module_version": "1.5.0",
            "_model_name": "HTMLModel",
            "_view_count": null,
            "_view_module": "@jupyter-widgets/controls",
            "_view_module_version": "1.5.0",
            "_view_name": "HTMLView",
            "description": "",
            "description_tooltip": null,
            "layout": "IPY_MODEL_edf2ac648cae4fac9ff624510164c47c",
            "placeholder": "​",
            "style": "IPY_MODEL_f8be85da682c4fcfb4ef809da71abfc7",
            "value": " 604/604 [00:00&lt;00:00, 10.5kB/s]"
          }
        },
        "706c6d180fed4451b4f3b480e98fb485": {
          "model_module": "@jupyter-widgets/base",
          "model_name": "LayoutModel",
          "model_module_version": "1.2.0",
          "state": {
            "_model_module": "@jupyter-widgets/base",
            "_model_module_version": "1.2.0",
            "_model_name": "LayoutModel",
            "_view_count": null,
            "_view_module": "@jupyter-widgets/base",
            "_view_module_version": "1.2.0",
            "_view_name": "LayoutView",
            "align_content": null,
            "align_items": null,
            "align_self": null,
            "border": null,
            "bottom": null,
            "display": null,
            "flex": null,
            "flex_flow": null,
            "grid_area": null,
            "grid_auto_columns": null,
            "grid_auto_flow": null,
            "grid_auto_rows": null,
            "grid_column": null,
            "grid_gap": null,
            "grid_row": null,
            "grid_template_areas": null,
            "grid_template_columns": null,
            "grid_template_rows": null,
            "height": null,
            "justify_content": null,
            "justify_items": null,
            "left": null,
            "margin": null,
            "max_height": null,
            "max_width": null,
            "min_height": null,
            "min_width": null,
            "object_fit": null,
            "object_position": null,
            "order": null,
            "overflow": null,
            "overflow_x": null,
            "overflow_y": null,
            "padding": null,
            "right": null,
            "top": null,
            "visibility": null,
            "width": null
          }
        },
        "3620d293703b4b08b8b6bfbbaacec39d": {
          "model_module": "@jupyter-widgets/base",
          "model_name": "LayoutModel",
          "model_module_version": "1.2.0",
          "state": {
            "_model_module": "@jupyter-widgets/base",
            "_model_module_version": "1.2.0",
            "_model_name": "LayoutModel",
            "_view_count": null,
            "_view_module": "@jupyter-widgets/base",
            "_view_module_version": "1.2.0",
            "_view_name": "LayoutView",
            "align_content": null,
            "align_items": null,
            "align_self": null,
            "border": null,
            "bottom": null,
            "display": null,
            "flex": null,
            "flex_flow": null,
            "grid_area": null,
            "grid_auto_columns": null,
            "grid_auto_flow": null,
            "grid_auto_rows": null,
            "grid_column": null,
            "grid_gap": null,
            "grid_row": null,
            "grid_template_areas": null,
            "grid_template_columns": null,
            "grid_template_rows": null,
            "height": null,
            "justify_content": null,
            "justify_items": null,
            "left": null,
            "margin": null,
            "max_height": null,
            "max_width": null,
            "min_height": null,
            "min_width": null,
            "object_fit": null,
            "object_position": null,
            "order": null,
            "overflow": null,
            "overflow_x": null,
            "overflow_y": null,
            "padding": null,
            "right": null,
            "top": null,
            "visibility": null,
            "width": null
          }
        },
        "094d9521a22c4b52bc8d76443687a4a3": {
          "model_module": "@jupyter-widgets/controls",
          "model_name": "DescriptionStyleModel",
          "model_module_version": "1.5.0",
          "state": {
            "_model_module": "@jupyter-widgets/controls",
            "_model_module_version": "1.5.0",
            "_model_name": "DescriptionStyleModel",
            "_view_count": null,
            "_view_module": "@jupyter-widgets/base",
            "_view_module_version": "1.2.0",
            "_view_name": "StyleView",
            "description_width": ""
          }
        },
        "80eea4cfbee048d79e7305ed40296d8a": {
          "model_module": "@jupyter-widgets/base",
          "model_name": "LayoutModel",
          "model_module_version": "1.2.0",
          "state": {
            "_model_module": "@jupyter-widgets/base",
            "_model_module_version": "1.2.0",
            "_model_name": "LayoutModel",
            "_view_count": null,
            "_view_module": "@jupyter-widgets/base",
            "_view_module_version": "1.2.0",
            "_view_name": "LayoutView",
            "align_content": null,
            "align_items": null,
            "align_self": null,
            "border": null,
            "bottom": null,
            "display": null,
            "flex": null,
            "flex_flow": null,
            "grid_area": null,
            "grid_auto_columns": null,
            "grid_auto_flow": null,
            "grid_auto_rows": null,
            "grid_column": null,
            "grid_gap": null,
            "grid_row": null,
            "grid_template_areas": null,
            "grid_template_columns": null,
            "grid_template_rows": null,
            "height": null,
            "justify_content": null,
            "justify_items": null,
            "left": null,
            "margin": null,
            "max_height": null,
            "max_width": null,
            "min_height": null,
            "min_width": null,
            "object_fit": null,
            "object_position": null,
            "order": null,
            "overflow": null,
            "overflow_x": null,
            "overflow_y": null,
            "padding": null,
            "right": null,
            "top": null,
            "visibility": null,
            "width": null
          }
        },
        "f37730245d1740a48cbfc45afa20045e": {
          "model_module": "@jupyter-widgets/controls",
          "model_name": "ProgressStyleModel",
          "model_module_version": "1.5.0",
          "state": {
            "_model_module": "@jupyter-widgets/controls",
            "_model_module_version": "1.5.0",
            "_model_name": "ProgressStyleModel",
            "_view_count": null,
            "_view_module": "@jupyter-widgets/base",
            "_view_module_version": "1.2.0",
            "_view_name": "StyleView",
            "bar_color": null,
            "description_width": ""
          }
        },
        "edf2ac648cae4fac9ff624510164c47c": {
          "model_module": "@jupyter-widgets/base",
          "model_name": "LayoutModel",
          "model_module_version": "1.2.0",
          "state": {
            "_model_module": "@jupyter-widgets/base",
            "_model_module_version": "1.2.0",
            "_model_name": "LayoutModel",
            "_view_count": null,
            "_view_module": "@jupyter-widgets/base",
            "_view_module_version": "1.2.0",
            "_view_name": "LayoutView",
            "align_content": null,
            "align_items": null,
            "align_self": null,
            "border": null,
            "bottom": null,
            "display": null,
            "flex": null,
            "flex_flow": null,
            "grid_area": null,
            "grid_auto_columns": null,
            "grid_auto_flow": null,
            "grid_auto_rows": null,
            "grid_column": null,
            "grid_gap": null,
            "grid_row": null,
            "grid_template_areas": null,
            "grid_template_columns": null,
            "grid_template_rows": null,
            "height": null,
            "justify_content": null,
            "justify_items": null,
            "left": null,
            "margin": null,
            "max_height": null,
            "max_width": null,
            "min_height": null,
            "min_width": null,
            "object_fit": null,
            "object_position": null,
            "order": null,
            "overflow": null,
            "overflow_x": null,
            "overflow_y": null,
            "padding": null,
            "right": null,
            "top": null,
            "visibility": null,
            "width": null
          }
        },
        "f8be85da682c4fcfb4ef809da71abfc7": {
          "model_module": "@jupyter-widgets/controls",
          "model_name": "DescriptionStyleModel",
          "model_module_version": "1.5.0",
          "state": {
            "_model_module": "@jupyter-widgets/controls",
            "_model_module_version": "1.5.0",
            "_model_name": "DescriptionStyleModel",
            "_view_count": null,
            "_view_module": "@jupyter-widgets/base",
            "_view_module_version": "1.2.0",
            "_view_name": "StyleView",
            "description_width": ""
          }
        }
      }
    }
  },
  "cells": [
    {
      "cell_type": "markdown",
      "metadata": {
        "id": "view-in-github",
        "colab_type": "text"
      },
      "source": [
        "<a href=\"https://colab.research.google.com/github/khuramgill/Face-Embaddings/blob/main/Image_with_URL's.ipynb\" target=\"_parent\"><img src=\"https://colab.research.google.com/assets/colab-badge.svg\" alt=\"Open In Colab\"/></a>"
      ]
    },
    {
      "cell_type": "code",
      "execution_count": 1,
      "metadata": {
        "colab": {
          "base_uri": "https://localhost:8080/"
        },
        "collapsed": true,
        "id": "2XXnHHGl4L1c",
        "outputId": "82d2db6e-6fba-4fd5-99d4-2a3cf1e92123"
      },
      "outputs": [
        {
          "output_type": "stream",
          "name": "stdout",
          "text": [
            "Collecting open_clip_torch\n",
            "  Downloading open_clip_torch-2.29.0-py3-none-any.whl.metadata (31 kB)\n",
            "Collecting pinecone-client\n",
            "  Downloading pinecone_client-5.0.1-py3-none-any.whl.metadata (19 kB)\n",
            "Requirement already satisfied: torch>=1.9.0 in /usr/local/lib/python3.10/dist-packages (from open_clip_torch) (2.5.1+cu121)\n",
            "Requirement already satisfied: torchvision in /usr/local/lib/python3.10/dist-packages (from open_clip_torch) (0.20.1+cu121)\n",
            "Requirement already satisfied: regex in /usr/local/lib/python3.10/dist-packages (from open_clip_torch) (2024.9.11)\n",
            "Collecting ftfy (from open_clip_torch)\n",
            "  Downloading ftfy-6.3.1-py3-none-any.whl.metadata (7.3 kB)\n",
            "Requirement already satisfied: tqdm in /usr/local/lib/python3.10/dist-packages (from open_clip_torch) (4.66.6)\n",
            "Requirement already satisfied: huggingface-hub in /usr/local/lib/python3.10/dist-packages (from open_clip_torch) (0.26.2)\n",
            "Requirement already satisfied: safetensors in /usr/local/lib/python3.10/dist-packages (from open_clip_torch) (0.4.5)\n",
            "Requirement already satisfied: timm in /usr/local/lib/python3.10/dist-packages (from open_clip_torch) (1.0.11)\n",
            "Requirement already satisfied: certifi>=2019.11.17 in /usr/local/lib/python3.10/dist-packages (from pinecone-client) (2024.8.30)\n",
            "Collecting pinecone-plugin-inference<2.0.0,>=1.0.3 (from pinecone-client)\n",
            "  Downloading pinecone_plugin_inference-1.1.0-py3-none-any.whl.metadata (2.2 kB)\n",
            "Collecting pinecone-plugin-interface<0.0.8,>=0.0.7 (from pinecone-client)\n",
            "  Downloading pinecone_plugin_interface-0.0.7-py3-none-any.whl.metadata (1.2 kB)\n",
            "Requirement already satisfied: typing-extensions>=3.7.4 in /usr/local/lib/python3.10/dist-packages (from pinecone-client) (4.12.2)\n",
            "Requirement already satisfied: urllib3>=1.26.0 in /usr/local/lib/python3.10/dist-packages (from pinecone-client) (2.2.3)\n",
            "Requirement already satisfied: filelock in /usr/local/lib/python3.10/dist-packages (from torch>=1.9.0->open_clip_torch) (3.16.1)\n",
            "Requirement already satisfied: networkx in /usr/local/lib/python3.10/dist-packages (from torch>=1.9.0->open_clip_torch) (3.4.2)\n",
            "Requirement already satisfied: jinja2 in /usr/local/lib/python3.10/dist-packages (from torch>=1.9.0->open_clip_torch) (3.1.4)\n",
            "Requirement already satisfied: fsspec in /usr/local/lib/python3.10/dist-packages (from torch>=1.9.0->open_clip_torch) (2024.10.0)\n",
            "Requirement already satisfied: sympy==1.13.1 in /usr/local/lib/python3.10/dist-packages (from torch>=1.9.0->open_clip_torch) (1.13.1)\n",
            "Requirement already satisfied: mpmath<1.4,>=1.1.0 in /usr/local/lib/python3.10/dist-packages (from sympy==1.13.1->torch>=1.9.0->open_clip_torch) (1.3.0)\n",
            "Requirement already satisfied: wcwidth in /usr/local/lib/python3.10/dist-packages (from ftfy->open_clip_torch) (0.2.13)\n",
            "Requirement already satisfied: packaging>=20.9 in /usr/local/lib/python3.10/dist-packages (from huggingface-hub->open_clip_torch) (24.2)\n",
            "Requirement already satisfied: pyyaml>=5.1 in /usr/local/lib/python3.10/dist-packages (from huggingface-hub->open_clip_torch) (6.0.2)\n",
            "Requirement already satisfied: requests in /usr/local/lib/python3.10/dist-packages (from huggingface-hub->open_clip_torch) (2.32.3)\n",
            "Requirement already satisfied: numpy in /usr/local/lib/python3.10/dist-packages (from torchvision->open_clip_torch) (1.26.4)\n",
            "Requirement already satisfied: pillow!=8.3.*,>=5.3.0 in /usr/local/lib/python3.10/dist-packages (from torchvision->open_clip_torch) (11.0.0)\n",
            "Requirement already satisfied: MarkupSafe>=2.0 in /usr/local/lib/python3.10/dist-packages (from jinja2->torch>=1.9.0->open_clip_torch) (3.0.2)\n",
            "Requirement already satisfied: charset-normalizer<4,>=2 in /usr/local/lib/python3.10/dist-packages (from requests->huggingface-hub->open_clip_torch) (3.4.0)\n",
            "Requirement already satisfied: idna<4,>=2.5 in /usr/local/lib/python3.10/dist-packages (from requests->huggingface-hub->open_clip_torch) (3.10)\n",
            "Downloading open_clip_torch-2.29.0-py3-none-any.whl (1.5 MB)\n",
            "\u001b[2K   \u001b[90m━━━━━━━━━━━━━━━━━━━━━━━━━━━━━━━━━━━━━━━━\u001b[0m \u001b[32m1.5/1.5 MB\u001b[0m \u001b[31m13.0 MB/s\u001b[0m eta \u001b[36m0:00:00\u001b[0m\n",
            "\u001b[?25hDownloading pinecone_client-5.0.1-py3-none-any.whl (244 kB)\n",
            "\u001b[2K   \u001b[90m━━━━━━━━━━━━━━━━━━━━━━━━━━━━━━━━━━━━━━━━\u001b[0m \u001b[32m244.8/244.8 kB\u001b[0m \u001b[31m8.9 MB/s\u001b[0m eta \u001b[36m0:00:00\u001b[0m\n",
            "\u001b[?25hDownloading pinecone_plugin_inference-1.1.0-py3-none-any.whl (85 kB)\n",
            "\u001b[2K   \u001b[90m━━━━━━━━━━━━━━━━━━━━━━━━━━━━━━━━━━━━━━━━\u001b[0m \u001b[32m85.4/85.4 kB\u001b[0m \u001b[31m3.7 MB/s\u001b[0m eta \u001b[36m0:00:00\u001b[0m\n",
            "\u001b[?25hDownloading pinecone_plugin_interface-0.0.7-py3-none-any.whl (6.2 kB)\n",
            "Downloading ftfy-6.3.1-py3-none-any.whl (44 kB)\n",
            "\u001b[2K   \u001b[90m━━━━━━━━━━━━━━━━━━━━━━━━━━━━━━━━━━━━━━━━\u001b[0m \u001b[32m44.8/44.8 kB\u001b[0m \u001b[31m695.6 kB/s\u001b[0m eta \u001b[36m0:00:00\u001b[0m\n",
            "\u001b[?25hInstalling collected packages: pinecone-plugin-interface, ftfy, pinecone-plugin-inference, pinecone-client, open_clip_torch\n",
            "Successfully installed ftfy-6.3.1 open_clip_torch-2.29.0 pinecone-client-5.0.1 pinecone-plugin-inference-1.1.0 pinecone-plugin-interface-0.0.7\n"
          ]
        }
      ],
      "source": [
        "!pip install open_clip_torch pinecone-client\n"
      ]
    },
    {
      "cell_type": "code",
      "source": [
        "!pip install --upgrade pinecone-client"
      ],
      "metadata": {
        "colab": {
          "base_uri": "https://localhost:8080/"
        },
        "id": "KkOLp5j64nhe",
        "outputId": "696c63c7-7c66-4966-a470-207c1772a0df"
      },
      "execution_count": 2,
      "outputs": [
        {
          "output_type": "stream",
          "name": "stdout",
          "text": [
            "Requirement already satisfied: pinecone-client in /usr/local/lib/python3.10/dist-packages (5.0.1)\n",
            "Requirement already satisfied: certifi>=2019.11.17 in /usr/local/lib/python3.10/dist-packages (from pinecone-client) (2024.8.30)\n",
            "Requirement already satisfied: pinecone-plugin-inference<2.0.0,>=1.0.3 in /usr/local/lib/python3.10/dist-packages (from pinecone-client) (1.1.0)\n",
            "Requirement already satisfied: pinecone-plugin-interface<0.0.8,>=0.0.7 in /usr/local/lib/python3.10/dist-packages (from pinecone-client) (0.0.7)\n",
            "Requirement already satisfied: tqdm>=4.64.1 in /usr/local/lib/python3.10/dist-packages (from pinecone-client) (4.66.6)\n",
            "Requirement already satisfied: typing-extensions>=3.7.4 in /usr/local/lib/python3.10/dist-packages (from pinecone-client) (4.12.2)\n",
            "Requirement already satisfied: urllib3>=1.26.0 in /usr/local/lib/python3.10/dist-packages (from pinecone-client) (2.2.3)\n"
          ]
        }
      ]
    },
    {
      "cell_type": "code",
      "source": [
        "import open_clip\n",
        "from PIL import Image\n",
        "import torch\n",
        "import pinecone\n"
      ],
      "metadata": {
        "id": "w_FKmdIu4tiH"
      },
      "execution_count": 3,
      "outputs": []
    },
    {
      "cell_type": "code",
      "source": [
        "device = \"cuda\" if torch.cuda.is_available() else \"cpu\"\n",
        "print(\"Using device:\", device)\n"
      ],
      "metadata": {
        "colab": {
          "base_uri": "https://localhost:8080/"
        },
        "id": "OjP5iS7s4xb9",
        "outputId": "ba87a237-8956-408d-aa7b-b1f940474f66"
      },
      "execution_count": 4,
      "outputs": [
        {
          "output_type": "stream",
          "name": "stdout",
          "text": [
            "Using device: cpu\n"
          ]
        }
      ]
    },
    {
      "cell_type": "code",
      "source": [
        "from pinecone import Pinecone\n",
        "\n",
        "pc = Pinecone(api_key=\"pcsk_2agnRW_PJGcuYNduPh4LXPttu1bnT31UninNBGbyZqKDUiCDAxdY7asgDJkLHmR3KCDJzP\")\n",
        "index = pc.Index(\"t\")\n",
        "\n",
        "# Connect\n"
      ],
      "metadata": {
        "id": "iIpauEgB41MV"
      },
      "execution_count": 5,
      "outputs": []
    },
    {
      "cell_type": "code",
      "source": [
        "model, preprocess_train, preprocess_val = open_clip.create_model_and_transforms(\n",
        "    'hf-hub:laion/CLIP-ViT-B-32-laion2B-s34B-b79K'\n",
        ")\n",
        "tokenizer = open_clip.get_tokenizer('hf-hub:laion/CLIP-ViT-B-32-laion2B-s34B-b79K')\n",
        "\n",
        "model = model.to(device)\n"
      ],
      "metadata": {
        "colab": {
          "base_uri": "https://localhost:8080/",
          "height": 185,
          "referenced_widgets": [
            "5729181c3250446f8ba81607f33f0dfd",
            "eefcb46a771944959b0ef02f9ea7f200",
            "a1f165a392a440449c734b769649e6f5",
            "d65b5a3a8d7e49e88287b08ebd72ad25",
            "a0a71936a0d449388476e68adde3e13a",
            "965bb4fca7eb4ca28c70781e4253cacb",
            "982caa61ce834c6abef31f2d3a62d7c5",
            "8ff0bc6f74ed4979a31a080154df168c",
            "c5f7b53991924171b7036fd6cff84f93",
            "a132f44c62474dc2bbd46660a5ff12e1",
            "54480f82aba44a2eac9e963bab0f564c",
            "f713e763c87d4e198d4c581777bdabda",
            "d60b088f96b046fea7de0245b623b0b5",
            "ef6e38d2d6e54a338adce9ee40933287",
            "46d29f99164f48d085145c6096a4f046",
            "706c6d180fed4451b4f3b480e98fb485",
            "3620d293703b4b08b8b6bfbbaacec39d",
            "094d9521a22c4b52bc8d76443687a4a3",
            "80eea4cfbee048d79e7305ed40296d8a",
            "f37730245d1740a48cbfc45afa20045e",
            "edf2ac648cae4fac9ff624510164c47c",
            "f8be85da682c4fcfb4ef809da71abfc7"
          ]
        },
        "id": "dtt4nN5K46Me",
        "outputId": "70c9b802-7303-4954-ae09-24621a3160b9"
      },
      "execution_count": 6,
      "outputs": [
        {
          "output_type": "stream",
          "name": "stderr",
          "text": [
            "/usr/local/lib/python3.10/dist-packages/huggingface_hub/utils/_auth.py:94: UserWarning: \n",
            "The secret `HF_TOKEN` does not exist in your Colab secrets.\n",
            "To authenticate with the Hugging Face Hub, create a token in your settings tab (https://huggingface.co/settings/tokens), set it as secret in your Google Colab and restart your session.\n",
            "You will be able to reuse this secret in all of your notebooks.\n",
            "Please note that authentication is recommended but still optional to access public models or datasets.\n",
            "  warnings.warn(\n"
          ]
        },
        {
          "output_type": "display_data",
          "data": {
            "text/plain": [
              "open_clip_pytorch_model.bin:   0%|          | 0.00/605M [00:00<?, ?B/s]"
            ],
            "application/vnd.jupyter.widget-view+json": {
              "version_major": 2,
              "version_minor": 0,
              "model_id": "5729181c3250446f8ba81607f33f0dfd"
            }
          },
          "metadata": {}
        },
        {
          "output_type": "display_data",
          "data": {
            "text/plain": [
              "open_clip_config.json:   0%|          | 0.00/604 [00:00<?, ?B/s]"
            ],
            "application/vnd.jupyter.widget-view+json": {
              "version_major": 2,
              "version_minor": 0,
              "model_id": "f713e763c87d4e198d4c581777bdabda"
            }
          },
          "metadata": {}
        }
      ]
    },
    {
      "cell_type": "code",
      "source": [
        "# Load image titles and URLs from text file\n",
        "image_data = []\n",
        "with open(\"/content/image_links.txt\", \"r\") as file:\n",
        "    for line in file:\n",
        "        title, url = line.strip().split(\": \")\n",
        "        image_data.append((title, url))\n",
        "\n",
        "print(\"Image data loaded successfully.\")\n",
        "print(f\"First 5 entries: {image_data[:5]}\")\n"
      ],
      "metadata": {
        "colab": {
          "base_uri": "https://localhost:8080/"
        },
        "id": "gugbwduk5TcG",
        "outputId": "7df27377-6fd4-4cd8-cb73-09e87c29e318"
      },
      "execution_count": 8,
      "outputs": [
        {
          "output_type": "stream",
          "name": "stdout",
          "text": [
            "Image data loaded successfully.\n",
            "First 5 entries: [('44.jpg', 'https://drive.google.com/uc?id=1nIrw9H-NDXhjO_8K0_Myzjp8tT_fONxW'), ('48.jpg', 'https://drive.google.com/uc?id=1XMjTZ4NtKMkHXgJwhbBlpmbGL0QROTDA'), ('50.jpg', 'https://drive.google.com/uc?id=1J6ALJHD2MSc5tI5Sod7r3AdlUnCsWQxu'), ('47.jpg', 'https://drive.google.com/uc?id=1peTtrAZIFAX3g46erMA6aZoeSSXzVwrO'), ('6.jpg', 'https://drive.google.com/uc?id=1uZe1BWLCuBLC5kQ2yq_VC5UhtpEm1vuN')]\n"
          ]
        }
      ]
    },
    {
      "cell_type": "code",
      "source": [
        "from PIL import Image\n",
        "import requests\n",
        "from io import BytesIO\n",
        "\n",
        "def get_image_embedding(image_url):\n",
        "    try:\n",
        "        response = requests.get(image_url)\n",
        "        image = Image.open(BytesIO(response.content)).convert(\"RGB\")\n",
        "\n",
        "        embedding = model.encode(image, convert_to_tensor=True).detach().cpu().numpy()\n",
        "        return embedding\n",
        "    except Exception as e:\n",
        "        print(f\"Error processing image at {image_url}: {e}\")\n",
        "        return None\n",
        "\n",
        "print(\"Image embedding function defined.\")\n"
      ],
      "metadata": {
        "colab": {
          "base_uri": "https://localhost:8080/"
        },
        "id": "J4alDqaE5zwN",
        "outputId": "68aafb82-eed9-4581-a035-8f6df3aef12e"
      },
      "execution_count": 9,
      "outputs": [
        {
          "output_type": "stream",
          "name": "stdout",
          "text": [
            "Image embedding function defined.\n"
          ]
        }
      ]
    },
    {
      "cell_type": "code",
      "source": [
        "for title, url in image_data:\n",
        "    embedding = get_image_embedding(url)\n",
        "    if embedding is not None:\n",
        "        index.upsert([(title, embedding, {\"url\": url})])  # Save embedding and metadata to Pinecone\n",
        "\n",
        "print(\"Embeddings and URLs uploaded to Pinecone.\")\n"
      ],
      "metadata": {
        "colab": {
          "base_uri": "https://localhost:8080/"
        },
        "id": "cldXGJ4k58V2",
        "outputId": "0af6d6f3-dc0c-419a-9326-34b241687584"
      },
      "execution_count": 10,
      "outputs": [
        {
          "output_type": "stream",
          "name": "stdout",
          "text": [
            "Error processing image at https://drive.google.com/uc?id=1nIrw9H-NDXhjO_8K0_Myzjp8tT_fONxW: 'CLIP' object has no attribute 'encode'\n",
            "Error processing image at https://drive.google.com/uc?id=1XMjTZ4NtKMkHXgJwhbBlpmbGL0QROTDA: 'CLIP' object has no attribute 'encode'\n",
            "Error processing image at https://drive.google.com/uc?id=1J6ALJHD2MSc5tI5Sod7r3AdlUnCsWQxu: 'CLIP' object has no attribute 'encode'\n",
            "Error processing image at https://drive.google.com/uc?id=1peTtrAZIFAX3g46erMA6aZoeSSXzVwrO: 'CLIP' object has no attribute 'encode'\n",
            "Error processing image at https://drive.google.com/uc?id=1uZe1BWLCuBLC5kQ2yq_VC5UhtpEm1vuN: 'CLIP' object has no attribute 'encode'\n",
            "Error processing image at https://drive.google.com/uc?id=1J4Cq5o8OTPr3lacf3GG4vX4XuYsBK1ns: 'CLIP' object has no attribute 'encode'\n",
            "Error processing image at https://drive.google.com/uc?id=1UN_LOwKydi_2dhlvv4nR00iTjr3PEGsu: 'CLIP' object has no attribute 'encode'\n",
            "Error processing image at https://drive.google.com/uc?id=1TSkrlof8XXjwhwFyj_WiSMIfXqf6QLiZ: 'CLIP' object has no attribute 'encode'\n",
            "Error processing image at https://drive.google.com/uc?id=1psngmmlrVROetpkaZ1DU4p5wTDOvo5q0: 'CLIP' object has no attribute 'encode'\n",
            "Error processing image at https://drive.google.com/uc?id=1XKFViNQOk2LCvYI5Qp7blVcnlRMn97y9: 'CLIP' object has no attribute 'encode'\n",
            "Error processing image at https://drive.google.com/uc?id=1Vt8IFHhKe8m3jo0ymj7WL1QA0nPuO9da: 'CLIP' object has no attribute 'encode'\n",
            "Error processing image at https://drive.google.com/uc?id=1eP5PSO2_0jiK_xK1X4d2jimLrryj4jGE: 'CLIP' object has no attribute 'encode'\n",
            "Error processing image at https://drive.google.com/uc?id=1tAUhhywMeFYM9GBV6XqYyfbAokVsz6S7: 'CLIP' object has no attribute 'encode'\n",
            "Error processing image at https://drive.google.com/uc?id=1aLH-Lwe8liEb6BivWogcs8BaF526e-g1: 'CLIP' object has no attribute 'encode'\n",
            "Error processing image at https://drive.google.com/uc?id=1XYTzMI6eqZDo_DmSoXuwhwseL884btes: 'CLIP' object has no attribute 'encode'\n",
            "Error processing image at https://drive.google.com/uc?id=1jB4FT-esHARBI0wFkgM2pqpPEb2x_eJr: 'CLIP' object has no attribute 'encode'\n",
            "Error processing image at https://drive.google.com/uc?id=11P0kZQr3L4CSzRd5Rlrj7CoWeLM4J92z: 'CLIP' object has no attribute 'encode'\n",
            "Error processing image at https://drive.google.com/uc?id=1KaQNi10CJEpYAfAR3z-HceLy3AXJLs6g: 'CLIP' object has no attribute 'encode'\n",
            "Error processing image at https://drive.google.com/uc?id=1hSmMW3jsGUIrGBZ9rSDc3i65qrdAww-C: 'CLIP' object has no attribute 'encode'\n",
            "Error processing image at https://drive.google.com/uc?id=1gf0XwXmxAhadQGt9bJ2LHeuzhOtBxqaJ: 'CLIP' object has no attribute 'encode'\n",
            "Error processing image at https://drive.google.com/uc?id=1WQJielsQ0cugpCF0srrkf7clTsxO8-Qo: 'CLIP' object has no attribute 'encode'\n",
            "Error processing image at https://drive.google.com/uc?id=1SD00dQGxuuy7iEw-6Kv5YI0gPFrkg-Cr: 'CLIP' object has no attribute 'encode'\n",
            "Error processing image at https://drive.google.com/uc?id=1DErnGjOtIQkRsXbdihyiHSa8K7iQtZmp: 'CLIP' object has no attribute 'encode'\n",
            "Error processing image at https://drive.google.com/uc?id=108KUJ-v2Tpajosf15AT752NCpP6e1bPS: 'CLIP' object has no attribute 'encode'\n",
            "Error processing image at https://drive.google.com/uc?id=1E9TcUXwgMafWUBM2u0bE-e_ivgMASBlX: 'CLIP' object has no attribute 'encode'\n",
            "Error processing image at https://drive.google.com/uc?id=1DgdcfC4OrHljMD1Rl9pW5bWXZ2RBN7hz: 'CLIP' object has no attribute 'encode'\n",
            "Error processing image at https://drive.google.com/uc?id=1fK1tddE6qXyXRx4jMq51SVoBKdSWAKdf: 'CLIP' object has no attribute 'encode'\n",
            "Error processing image at https://drive.google.com/uc?id=1rBJblGgAQNtoPYtVR6dYvOOFw1uwM_7o: 'CLIP' object has no attribute 'encode'\n",
            "Error processing image at https://drive.google.com/uc?id=1lnGQAsjqa-8NPWp3c-TO7fV76tNp3txO: 'CLIP' object has no attribute 'encode'\n",
            "Error processing image at https://drive.google.com/uc?id=1uirBTH35SxbA30H8N3zgK64WrmJIWSBh: 'CLIP' object has no attribute 'encode'\n",
            "Error processing image at https://drive.google.com/uc?id=1bmY2oQqpy8KDQCEd6Q68D7VBVWgq8e8-: 'CLIP' object has no attribute 'encode'\n",
            "Error processing image at https://drive.google.com/uc?id=1y6WfYI5vhoCZU2KYp7bkWTuJnmX_LoHs: 'CLIP' object has no attribute 'encode'\n",
            "Error processing image at https://drive.google.com/uc?id=1PiXH1DUVtuJmhsnKUA5dE7ggCiMi06RT: 'CLIP' object has no attribute 'encode'\n",
            "Error processing image at https://drive.google.com/uc?id=1ujG8n-8pOvuN2ZHo1KdVY4p3h0deIm4w: 'CLIP' object has no attribute 'encode'\n",
            "Error processing image at https://drive.google.com/uc?id=1lcDFPn3snYIX_67NrXkLTUP8YzJT_iPz: 'CLIP' object has no attribute 'encode'\n",
            "Error processing image at https://drive.google.com/uc?id=1DJbXe5Mwp6U3w5WTupWrTT8YEyRFzUPs: 'CLIP' object has no attribute 'encode'\n",
            "Error processing image at https://drive.google.com/uc?id=1EZIHmMNGAWaYkmRVIJyQGyP1Y_2oL-lZ: 'CLIP' object has no attribute 'encode'\n",
            "Error processing image at https://drive.google.com/uc?id=1Hf1KV0QmsMvymk5kpWqWVQMxj5wJSU-c: 'CLIP' object has no attribute 'encode'\n",
            "Error processing image at https://drive.google.com/uc?id=19vo3_OyxWp0kLvqeoS_A1uW7RDXGTgPn: 'CLIP' object has no attribute 'encode'\n",
            "Error processing image at https://drive.google.com/uc?id=1K18NSwnCiruE-fdsuRd1AH6XX7vlzCJc: 'CLIP' object has no attribute 'encode'\n",
            "Error processing image at https://drive.google.com/uc?id=1cWog2eKXO5pFURqJPcxBe6JERF3hdixj: 'CLIP' object has no attribute 'encode'\n",
            "Error processing image at https://drive.google.com/uc?id=1b9ZK6eh_aKLt_KthDLoUU-RQnW-e73pp: 'CLIP' object has no attribute 'encode'\n",
            "Error processing image at https://drive.google.com/uc?id=1-g2NvmmvMVhMfwFDIeIByfst9_XSpDie: 'CLIP' object has no attribute 'encode'\n",
            "Error processing image at https://drive.google.com/uc?id=1gJyXgMloiC2tbwU7m-VQ63C7MGx3vhO3: 'CLIP' object has no attribute 'encode'\n",
            "Error processing image at https://drive.google.com/uc?id=1CDmXwCjokpnQrjkDvZoZILP5e-7SnMae: 'CLIP' object has no attribute 'encode'\n",
            "Error processing image at https://drive.google.com/uc?id=1txBPZV2YaMy9hOzceJmNss8rni8NecYZ: 'CLIP' object has no attribute 'encode'\n",
            "Error processing image at https://drive.google.com/uc?id=1YXh9SoA9cS0Oea7HRD1uoEV4HCIw2fan: 'CLIP' object has no attribute 'encode'\n",
            "Error processing image at https://drive.google.com/uc?id=167rTHr5U_zhQofmzYv0PwTn-jQyiezNT: 'CLIP' object has no attribute 'encode'\n",
            "Error processing image at https://drive.google.com/uc?id=1IVhXcsCbMFMZPqdhYovwN_UqXi3MrO77: 'CLIP' object has no attribute 'encode'\n",
            "Error processing image at https://drive.google.com/uc?id=1c7V4eAFBmULEKf6Gbz1JsIiPiSZRN3F2: 'CLIP' object has no attribute 'encode'\n",
            "Embeddings and URLs uploaded to Pinecone.\n"
          ]
        }
      ]
    },
    {
      "cell_type": "code",
      "source": [
        "def search_image(query_image_url, top_k=5):\n",
        "    query_embedding = get_image_embedding(query_image_url)\n",
        "    if query_embedding is None:\n",
        "        print(\"Failed to generate embedding for query image.\")\n",
        "        return\n",
        "\n",
        "    results = index.query(query_embedding, top_k=top_k, include_metadata=True)\n",
        "    print(\"Top matches:\")\n",
        "    for match in results['matches']:\n",
        "        print(f\"Title: {match['id']}, URL: {match['metadata']['url']}, Score: {match['score']}\")\n",
        "\n",
        "print(\"Search function defined.\")\n"
      ],
      "metadata": {
        "colab": {
          "base_uri": "https://localhost:8080/"
        },
        "id": "BXW09bHi69qu",
        "outputId": "0df86469-fb61-4e65-b686-d8ae4ea7e3b9"
      },
      "execution_count": 11,
      "outputs": [
        {
          "output_type": "stream",
          "name": "stdout",
          "text": [
            "Search function defined.\n"
          ]
        }
      ]
    },
    {
      "cell_type": "code",
      "source": [
        "# Example: Searching with a query image\n",
        "query_image_url = \"https://drive.usercontent.google.com/download?id=1J6ALJHD2MSc5tI5Sod7r3AdlUnCsWQxu&authuser=0\"  # Replace with an actual URL\n",
        "search_image(query_image_url)\n"
      ],
      "metadata": {
        "colab": {
          "base_uri": "https://localhost:8080/"
        },
        "id": "nfLFK-ih7Bxt",
        "outputId": "a1e049c0-0cd9-4b3e-ca6b-c05bce770f00"
      },
      "execution_count": 12,
      "outputs": [
        {
          "output_type": "stream",
          "name": "stdout",
          "text": [
            "Error processing image at https://drive.usercontent.google.com/download?id=1J6ALJHD2MSc5tI5Sod7r3AdlUnCsWQxu&authuser=0: 'CLIP' object has no attribute 'encode'\n",
            "Failed to generate embedding for query image.\n"
          ]
        }
      ]
    }
  ]
}