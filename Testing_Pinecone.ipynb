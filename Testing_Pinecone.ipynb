{
  "cells": [
    {
      "cell_type": "markdown",
      "metadata": {
        "id": "view-in-github",
        "colab_type": "text"
      },
      "source": [
        "<a href=\"https://colab.research.google.com/github/khuramgill/Face-Embaddings/blob/main/Testing_Pinecone.ipynb\" target=\"_parent\"><img src=\"https://colab.research.google.com/assets/colab-badge.svg\" alt=\"Open In Colab\"/></a>"
      ]
    },
    {
      "cell_type": "code",
      "execution_count": null,
      "metadata": {
        "colab": {
          "base_uri": "https://localhost:8080/"
        },
        "collapsed": true,
        "id": "lfkt4gyLYMme",
        "outputId": "44260591-2336-4259-ff01-666e8bb7adf5"
      },
      "outputs": [
        {
          "output_type": "stream",
          "name": "stdout",
          "text": [
            "Collecting pinecone\n",
            "  Downloading pinecone-5.4.0-py3-none-any.whl.metadata (19 kB)\n",
            "Requirement already satisfied: certifi>=2019.11.17 in /usr/local/lib/python3.10/dist-packages (from pinecone) (2024.8.30)\n",
            "Collecting pinecone-plugin-inference<3.0.0,>=2.0.0 (from pinecone)\n",
            "  Downloading pinecone_plugin_inference-2.0.1-py3-none-any.whl.metadata (2.2 kB)\n",
            "Collecting pinecone-plugin-interface<0.0.8,>=0.0.7 (from pinecone)\n",
            "  Downloading pinecone_plugin_interface-0.0.7-py3-none-any.whl.metadata (1.2 kB)\n",
            "Requirement already satisfied: python-dateutil>=2.5.3 in /usr/local/lib/python3.10/dist-packages (from pinecone) (2.8.2)\n",
            "Requirement already satisfied: tqdm>=4.64.1 in /usr/local/lib/python3.10/dist-packages (from pinecone) (4.66.6)\n",
            "Requirement already satisfied: typing-extensions>=3.7.4 in /usr/local/lib/python3.10/dist-packages (from pinecone) (4.12.2)\n",
            "Requirement already satisfied: urllib3>=1.26.0 in /usr/local/lib/python3.10/dist-packages (from pinecone) (2.2.3)\n",
            "Requirement already satisfied: six>=1.5 in /usr/local/lib/python3.10/dist-packages (from python-dateutil>=2.5.3->pinecone) (1.16.0)\n",
            "Downloading pinecone-5.4.0-py3-none-any.whl (427 kB)\n",
            "\u001b[2K   \u001b[90m━━━━━━━━━━━━━━━━━━━━━━━━━━━━━━━━━━━━━━━━\u001b[0m \u001b[32m427.3/427.3 kB\u001b[0m \u001b[31m6.1 MB/s\u001b[0m eta \u001b[36m0:00:00\u001b[0m\n",
            "\u001b[?25hDownloading pinecone_plugin_inference-2.0.1-py3-none-any.whl (84 kB)\n",
            "\u001b[2K   \u001b[90m━━━━━━━━━━━━━━━━━━━━━━━━━━━━━━━━━━━━━━━━\u001b[0m \u001b[32m84.4/84.4 kB\u001b[0m \u001b[31m7.4 MB/s\u001b[0m eta \u001b[36m0:00:00\u001b[0m\n",
            "\u001b[?25hDownloading pinecone_plugin_interface-0.0.7-py3-none-any.whl (6.2 kB)\n",
            "Installing collected packages: pinecone-plugin-interface, pinecone-plugin-inference, pinecone\n",
            "Successfully installed pinecone-5.4.0 pinecone-plugin-inference-2.0.1 pinecone-plugin-interface-0.0.7\n"
          ]
        }
      ],
      "source": [
        "!pip install pinecone"
      ]
    },
    {
      "cell_type": "code",
      "execution_count": null,
      "metadata": {
        "id": "8T2ODoZYYb3D"
      },
      "outputs": [],
      "source": [
        "from pinecone import Pinecone\n",
        "\n",
        "pc = Pinecone(api_key=\"pcsk_2agnRW_PJGcuYNduPh4LXPttu1bnT31UninNBGbyZqKDUiCDAxdY7asgDJkLHmR3KCDJzP\")\n",
        "index = pc.Index(\"t\")"
      ]
    },
    {
      "cell_type": "code",
      "execution_count": null,
      "metadata": {
        "colab": {
          "base_uri": "https://localhost:8080/"
        },
        "id": "bw6lYagbYgNy",
        "outputId": "ffd6a571-6095-4085-a178-b5acd023c89e"
      },
      "outputs": [
        {
          "data": {
            "text/plain": [
              "{'upserted_count': 200}"
            ]
          },
          "execution_count": 18,
          "metadata": {},
          "output_type": "execute_result"
        }
      ],
      "source": [
        "import random\n",
        "\n",
        "# Generate 200 movie vectors with 512 dimensions\n",
        "movie_vectors = []\n",
        "genres = [\"drama\", \"action\", \"comedy\", \"thriller\", \"romance\", \"sci-fi\", \"fantasy\", \"horror\", \"documentary\", \"animation\"]\n",
        "\n",
        "for i in range(200):\n",
        "    movie_vectors.append({\n",
        "        \"id\": f\"vec{i+1}\",\n",
        "        \"values\": [random.uniform(0, 1) for _ in range(512)],\n",
        "        \"metadata\": {\"genre\": random.choice(genres)}\n",
        "    })\n",
        "\n",
        "# Upsert into Pinecone\n",
        "index.upsert(\n",
        "    vectors=movie_vectors,\n",
        "    namespace=\"ns1\"\n",
        ")\n"
      ]
    },
    {
      "cell_type": "code",
      "execution_count": null,
      "metadata": {
        "colab": {
          "base_uri": "https://localhost:8080/"
        },
        "id": "-JQ8JF9tZvUr",
        "outputId": "bec95655-b230-4190-e00c-bf27737eb051"
      },
      "outputs": [
        {
          "name": "stdout",
          "output_type": "stream",
          "text": [
            "No vectors found in the response.\n"
          ]
        }
      ],
      "source": [
        "vector_ids = [\"vec1\", \"vec2\", \"vec3\", \"vec4\", \"vec5\"]\n",
        "\n",
        "response = index.fetch(ids=vector_ids)\n",
        "\n",
        "# Check if there are vectors in the response\n",
        "if \"vectors\" in response and response[\"vectors\"]:\n",
        "    print(\"Fetched vectors successfully!\\n\")\n",
        "\n",
        "    for vec_id, vector_data in response[\"vectors\"].items():\n",
        "        print(f\"ID: {vec_id}\")\n",
        "        print(f\"Metadata: {vector_data.get('metadata', 'No metadata available')}\")\n",
        "\n",
        "        print(f\"Values (first 10 dimensions): {vector_data.get('values', [])[:10]}\")\n",
        "        print(\"\\n\")\n",
        "else:\n",
        "    print(\"No vectors found in the response.\")\n"
      ]
    },
    {
      "cell_type": "code",
      "execution_count": null,
      "metadata": {
        "id": "PCG8EovPbNDE"
      },
      "outputs": [],
      "source": [
        "query_vector = [random.uniform(0, 1) for _ in range(512)]\n",
        "\n",
        "response = index.query(\n",
        "    vector=query_vector,\n",
        "    top_k=5,\n",
        "    include_metadata=True\n",
        ")\n",
        "\n",
        "# Display the query results\n",
        "for match in response[\"matches\"]:\n",
        "    print(f\"ID: {match['id']}\")\n",
        "    print(f\"Score: {match['score']}\")\n",
        "    print(f\"Metadata: {match['metadata']}\")\n",
        "    print(\"\\n\")\n"
      ]
    },
    {
      "cell_type": "code",
      "execution_count": null,
      "metadata": {
        "id": "vnD6w9lAbhRU"
      },
      "outputs": [],
      "source": [
        "all_ids = [f\"vec{i+1}\" for i in range(200)]\n",
        "batch_size = 50\n",
        "\n",
        "for i in range(0, len(all_ids), batch_size):\n",
        "    batch_ids = all_ids[i:i+batch_size]\n",
        "    response = index.fetch(ids=batch_ids)\n",
        "\n",
        "    for vec_id, vector_data in response[\"vectors\"].items():\n",
        "        print(f\"ID: {vec_id}\")\n",
        "        print(f\"Metadata: {vector_data['metadata']}\")\n",
        "        print(f\"Values (first 10 dimensions): {vector_data['values'][:10]}\")\n",
        "        print(\"\\n\")\n"
      ]
    },
    {
      "cell_type": "markdown",
      "metadata": {
        "id": "G7Hrp4Y2b5GT"
      },
      "source": [
        "# **Now testing Image Vectors**"
      ]
    },
    {
      "cell_type": "code",
      "execution_count": null,
      "metadata": {
        "colab": {
          "base_uri": "https://localhost:8080/"
        },
        "collapsed": true,
        "id": "lpvEcKseb-R7",
        "outputId": "a0fb64bc-0d59-4829-91e2-ddc733d73dde"
      },
      "outputs": [
        {
          "output_type": "stream",
          "name": "stdout",
          "text": [
            "Collecting open_clip_torch\n",
            "  Downloading open_clip_torch-2.29.0-py3-none-any.whl.metadata (31 kB)\n",
            "Collecting pinecone-client\n",
            "  Downloading pinecone_client-5.0.1-py3-none-any.whl.metadata (19 kB)\n",
            "Requirement already satisfied: torch>=1.9.0 in /usr/local/lib/python3.10/dist-packages (from open_clip_torch) (2.5.1+cu121)\n",
            "Requirement already satisfied: torchvision in /usr/local/lib/python3.10/dist-packages (from open_clip_torch) (0.20.1+cu121)\n",
            "Requirement already satisfied: regex in /usr/local/lib/python3.10/dist-packages (from open_clip_torch) (2024.9.11)\n",
            "Collecting ftfy (from open_clip_torch)\n",
            "  Downloading ftfy-6.3.1-py3-none-any.whl.metadata (7.3 kB)\n",
            "Requirement already satisfied: tqdm in /usr/local/lib/python3.10/dist-packages (from open_clip_torch) (4.66.6)\n",
            "Requirement already satisfied: huggingface-hub in /usr/local/lib/python3.10/dist-packages (from open_clip_torch) (0.26.2)\n",
            "Requirement already satisfied: safetensors in /usr/local/lib/python3.10/dist-packages (from open_clip_torch) (0.4.5)\n",
            "Requirement already satisfied: timm in /usr/local/lib/python3.10/dist-packages (from open_clip_torch) (1.0.11)\n",
            "Requirement already satisfied: certifi>=2019.11.17 in /usr/local/lib/python3.10/dist-packages (from pinecone-client) (2024.8.30)\n",
            "Collecting pinecone-plugin-inference<2.0.0,>=1.0.3 (from pinecone-client)\n",
            "  Downloading pinecone_plugin_inference-1.1.0-py3-none-any.whl.metadata (2.2 kB)\n",
            "Requirement already satisfied: pinecone-plugin-interface<0.0.8,>=0.0.7 in /usr/local/lib/python3.10/dist-packages (from pinecone-client) (0.0.7)\n",
            "Requirement already satisfied: typing-extensions>=3.7.4 in /usr/local/lib/python3.10/dist-packages (from pinecone-client) (4.12.2)\n",
            "Requirement already satisfied: urllib3>=1.26.0 in /usr/local/lib/python3.10/dist-packages (from pinecone-client) (2.2.3)\n",
            "Requirement already satisfied: filelock in /usr/local/lib/python3.10/dist-packages (from torch>=1.9.0->open_clip_torch) (3.16.1)\n",
            "Requirement already satisfied: networkx in /usr/local/lib/python3.10/dist-packages (from torch>=1.9.0->open_clip_torch) (3.4.2)\n",
            "Requirement already satisfied: jinja2 in /usr/local/lib/python3.10/dist-packages (from torch>=1.9.0->open_clip_torch) (3.1.4)\n",
            "Requirement already satisfied: fsspec in /usr/local/lib/python3.10/dist-packages (from torch>=1.9.0->open_clip_torch) (2024.10.0)\n",
            "Requirement already satisfied: sympy==1.13.1 in /usr/local/lib/python3.10/dist-packages (from torch>=1.9.0->open_clip_torch) (1.13.1)\n",
            "Requirement already satisfied: mpmath<1.4,>=1.1.0 in /usr/local/lib/python3.10/dist-packages (from sympy==1.13.1->torch>=1.9.0->open_clip_torch) (1.3.0)\n",
            "Requirement already satisfied: wcwidth in /usr/local/lib/python3.10/dist-packages (from ftfy->open_clip_torch) (0.2.13)\n",
            "Requirement already satisfied: packaging>=20.9 in /usr/local/lib/python3.10/dist-packages (from huggingface-hub->open_clip_torch) (24.2)\n",
            "Requirement already satisfied: pyyaml>=5.1 in /usr/local/lib/python3.10/dist-packages (from huggingface-hub->open_clip_torch) (6.0.2)\n",
            "Requirement already satisfied: requests in /usr/local/lib/python3.10/dist-packages (from huggingface-hub->open_clip_torch) (2.32.3)\n",
            "Requirement already satisfied: numpy in /usr/local/lib/python3.10/dist-packages (from torchvision->open_clip_torch) (1.26.4)\n",
            "Requirement already satisfied: pillow!=8.3.*,>=5.3.0 in /usr/local/lib/python3.10/dist-packages (from torchvision->open_clip_torch) (11.0.0)\n",
            "Requirement already satisfied: MarkupSafe>=2.0 in /usr/local/lib/python3.10/dist-packages (from jinja2->torch>=1.9.0->open_clip_torch) (3.0.2)\n",
            "Requirement already satisfied: charset-normalizer<4,>=2 in /usr/local/lib/python3.10/dist-packages (from requests->huggingface-hub->open_clip_torch) (3.4.0)\n",
            "Requirement already satisfied: idna<4,>=2.5 in /usr/local/lib/python3.10/dist-packages (from requests->huggingface-hub->open_clip_torch) (3.10)\n",
            "Downloading open_clip_torch-2.29.0-py3-none-any.whl (1.5 MB)\n",
            "\u001b[2K   \u001b[90m━━━━━━━━━━━━━━━━━━━━━━━━━━━━━━━━━━━━━━━━\u001b[0m \u001b[32m1.5/1.5 MB\u001b[0m \u001b[31m17.7 MB/s\u001b[0m eta \u001b[36m0:00:00\u001b[0m\n",
            "\u001b[?25hDownloading pinecone_client-5.0.1-py3-none-any.whl (244 kB)\n",
            "\u001b[2K   \u001b[90m━━━━━━━━━━━━━━━━━━━━━━━━━━━━━━━━━━━━━━━━\u001b[0m \u001b[32m244.8/244.8 kB\u001b[0m \u001b[31m18.0 MB/s\u001b[0m eta \u001b[36m0:00:00\u001b[0m\n",
            "\u001b[?25hDownloading pinecone_plugin_inference-1.1.0-py3-none-any.whl (85 kB)\n",
            "\u001b[2K   \u001b[90m━━━━━━━━━━━━━━━━━━━━━━━━━━━━━━━━━━━━━━━━\u001b[0m \u001b[32m85.4/85.4 kB\u001b[0m \u001b[31m7.2 MB/s\u001b[0m eta \u001b[36m0:00:00\u001b[0m\n",
            "\u001b[?25hDownloading ftfy-6.3.1-py3-none-any.whl (44 kB)\n",
            "\u001b[2K   \u001b[90m━━━━━━━━━━━━━━━━━━━━━━━━━━━━━━━━━━━━━━━━\u001b[0m \u001b[32m44.8/44.8 kB\u001b[0m \u001b[31m4.2 MB/s\u001b[0m eta \u001b[36m0:00:00\u001b[0m\n",
            "\u001b[?25hInstalling collected packages: pinecone-plugin-inference, ftfy, pinecone-client, open_clip_torch\n",
            "  Attempting uninstall: pinecone-plugin-inference\n",
            "    Found existing installation: pinecone-plugin-inference 2.0.1\n",
            "    Uninstalling pinecone-plugin-inference-2.0.1:\n",
            "      Successfully uninstalled pinecone-plugin-inference-2.0.1\n",
            "\u001b[31mERROR: pip's dependency resolver does not currently take into account all the packages that are installed. This behaviour is the source of the following dependency conflicts.\n",
            "pinecone 5.4.0 requires pinecone-plugin-inference<3.0.0,>=2.0.0, but you have pinecone-plugin-inference 1.1.0 which is incompatible.\u001b[0m\u001b[31m\n",
            "\u001b[0mSuccessfully installed ftfy-6.3.1 open_clip_torch-2.29.0 pinecone-client-5.0.1 pinecone-plugin-inference-1.1.0\n"
          ]
        }
      ],
      "source": [
        "!pip install open_clip_torch pinecone-client\n"
      ]
    },
    {
      "cell_type": "code",
      "execution_count": null,
      "metadata": {
        "colab": {
          "base_uri": "https://localhost:8080/"
        },
        "collapsed": true,
        "id": "Oo5EZCZMe0C0",
        "outputId": "91c1d12e-d2a0-4adb-c8b3-405c7f20fcfe"
      },
      "outputs": [
        {
          "output_type": "stream",
          "name": "stdout",
          "text": [
            "Requirement already satisfied: pinecone-client in /usr/local/lib/python3.10/dist-packages (5.0.1)\n",
            "Requirement already satisfied: certifi>=2019.11.17 in /usr/local/lib/python3.10/dist-packages (from pinecone-client) (2024.8.30)\n",
            "Requirement already satisfied: pinecone-plugin-inference<2.0.0,>=1.0.3 in /usr/local/lib/python3.10/dist-packages (from pinecone-client) (1.1.0)\n",
            "Requirement already satisfied: pinecone-plugin-interface<0.0.8,>=0.0.7 in /usr/local/lib/python3.10/dist-packages (from pinecone-client) (0.0.7)\n",
            "Requirement already satisfied: tqdm>=4.64.1 in /usr/local/lib/python3.10/dist-packages (from pinecone-client) (4.66.6)\n",
            "Requirement already satisfied: typing-extensions>=3.7.4 in /usr/local/lib/python3.10/dist-packages (from pinecone-client) (4.12.2)\n",
            "Requirement already satisfied: urllib3>=1.26.0 in /usr/local/lib/python3.10/dist-packages (from pinecone-client) (2.2.3)\n"
          ]
        }
      ],
      "source": [
        "!pip install --upgrade pinecone-client\n"
      ]
    },
    {
      "cell_type": "code",
      "execution_count": null,
      "metadata": {
        "id": "ZOaRO8eGdo3c"
      },
      "outputs": [],
      "source": [
        "import open_clip\n",
        "from PIL import Image\n",
        "import torch\n",
        "import pinecone\n"
      ]
    },
    {
      "cell_type": "code",
      "execution_count": 18,
      "metadata": {
        "colab": {
          "base_uri": "https://localhost:8080/"
        },
        "id": "TAQaFSPGdwAT",
        "outputId": "7f583d43-f74f-4c2f-b0ae-6ccf4e766c71"
      },
      "outputs": [
        {
          "output_type": "stream",
          "name": "stdout",
          "text": [
            "Using device: cpu\n"
          ]
        }
      ],
      "source": [
        "device = \"cuda\" if torch.cuda.is_available() else \"cpu\"\n",
        "print(\"Using device:\", device)\n"
      ]
    },
    {
      "cell_type": "code",
      "execution_count": null,
      "metadata": {
        "id": "JavGAz4JdynD"
      },
      "outputs": [],
      "source": [
        "from pinecone import Pinecone\n",
        "\n",
        "pc = Pinecone(api_key=\"pcsk_2agnRW_PJGcuYNduPh4LXPttu1bnT31UninNBGbyZqKDUiCDAxdY7asgDJkLHmR3KCDJzP\")\n",
        "index = pc.Index(\"t\")\n",
        "\n",
        "# Connect\n"
      ]
    },
    {
      "cell_type": "markdown",
      "metadata": {
        "id": "kAFTBPhYf420"
      },
      "source": [
        "load Model and its fun"
      ]
    },
    {
      "cell_type": "code",
      "execution_count": null,
      "metadata": {
        "id": "QiaXFIlsf8E7",
        "colab": {
          "base_uri": "https://localhost:8080/",
          "height": 205,
          "referenced_widgets": [
            "4cdecb6442fe470da8becb2a075ebfe9",
            "d27753fe6e46496f9713cbd23283d35e",
            "02cc5e444f0f4cab97db13e6a7b05c03",
            "4c53067e9ec74d9fa0fe18ac655dc633",
            "f5ada701d08b43aaa8889dd679b5747b",
            "833fd66f5a1c4b538693e29f664c342c",
            "f681b980813c43b2acaeb96638ab88d6",
            "3cf273e8a5da4a758ac9e2ee5ab90a8f",
            "5b5a6963af314690bbc23d1f814231b6",
            "22f7393d6a084e69a7f1b643bf4acc99",
            "6b0926ee8db84daa993125ae2e8b2a9d",
            "577358296fd9467ea7f70a800855eb11",
            "68c107eead2b4d5b9330e36a91a9ee03",
            "dc7c8a7aab074560a4273507c5adc62c",
            "fc227f05db1d42b0bd957142c2180e74",
            "3910ee86fa6140f9a6d297b4027e5d5f",
            "6f969598fd8341eabae782f4f53b0b27",
            "153276c0d6ba4f9e86d04ccd97d939bd",
            "5280e372450c41d283f2e7e7b3719338",
            "a8a785b215f747c5895ce4311d3fc162",
            "2a1751dab2124784962b17ed15b20514",
            "4c761bcaf0a8426b9a0555808f4385c3"
          ]
        },
        "outputId": "9c49c150-7c06-4a40-8708-e49a88638cd9"
      },
      "outputs": [
        {
          "output_type": "stream",
          "name": "stderr",
          "text": [
            "/usr/local/lib/python3.10/dist-packages/huggingface_hub/utils/_auth.py:94: UserWarning: \n",
            "The secret `HF_TOKEN` does not exist in your Colab secrets.\n",
            "To authenticate with the Hugging Face Hub, create a token in your settings tab (https://huggingface.co/settings/tokens), set it as secret in your Google Colab and restart your session.\n",
            "You will be able to reuse this secret in all of your notebooks.\n",
            "Please note that authentication is recommended but still optional to access public models or datasets.\n",
            "  warnings.warn(\n"
          ]
        },
        {
          "output_type": "display_data",
          "data": {
            "text/plain": [
              "open_clip_pytorch_model.bin:   0%|          | 0.00/605M [00:00<?, ?B/s]"
            ],
            "application/vnd.jupyter.widget-view+json": {
              "version_major": 2,
              "version_minor": 0,
              "model_id": "4cdecb6442fe470da8becb2a075ebfe9"
            }
          },
          "metadata": {}
        },
        {
          "output_type": "display_data",
          "data": {
            "text/plain": [
              "open_clip_config.json:   0%|          | 0.00/604 [00:00<?, ?B/s]"
            ],
            "application/vnd.jupyter.widget-view+json": {
              "version_major": 2,
              "version_minor": 0,
              "model_id": "577358296fd9467ea7f70a800855eb11"
            }
          },
          "metadata": {}
        }
      ],
      "source": [
        "model, preprocess_train, preprocess_val = open_clip.create_model_and_transforms(\n",
        "    'hf-hub:laion/CLIP-ViT-B-32-laion2B-s34B-b79K'\n",
        ")\n",
        "tokenizer = open_clip.get_tokenizer('hf-hub:laion/CLIP-ViT-B-32-laion2B-s34B-b79K')\n",
        "\n",
        "model = model.to(device)\n"
      ]
    },
    {
      "cell_type": "code",
      "execution_count": null,
      "metadata": {
        "id": "HvsNioBLgDwc"
      },
      "outputs": [],
      "source": [
        "image_path = '/content/sample_data/35.jpg'\n",
        "image = Image.open(image_path).convert('RGB')\n",
        "preprocessed_image = preprocess_val(image).unsqueeze(0).to(device)\n"
      ]
    },
    {
      "cell_type": "markdown",
      "metadata": {
        "id": "1g59dqY3h0F7"
      },
      "source": [
        "Generate Embaddings\n"
      ]
    },
    {
      "cell_type": "code",
      "execution_count": null,
      "metadata": {
        "id": "9z_bJRDBh3dT"
      },
      "outputs": [],
      "source": [
        "with torch.no_grad():\n",
        "    image_embedding = model.encode_image(preprocessed_image).cpu().numpy().flatten()\n"
      ]
    },
    {
      "cell_type": "code",
      "execution_count": null,
      "metadata": {
        "colab": {
          "base_uri": "https://localhost:8080/"
        },
        "id": "Nhv_jHpRh8yb",
        "outputId": "dafb8be7-5fce-4338-9cea-e2a1991927f1"
      },
      "outputs": [
        {
          "output_type": "execute_result",
          "data": {
            "text/plain": [
              "{'upserted_count': 1}"
            ]
          },
          "metadata": {},
          "execution_count": 16
        }
      ],
      "source": [
        "index.upsert(\n",
        "    vectors=[\n",
        "        {\n",
        "            \"id\": \"image1\",\n",
        "            \"values\": image_embedding.tolist(),\n",
        "            \"metadata\": {\"type\": \"image\", \"description\": \"Sample image\"}\n",
        "        }\n",
        "    ],\n",
        "    namespace=\"image_namespace\"\n",
        ")\n"
      ]
    },
    {
      "cell_type": "markdown",
      "metadata": {
        "id": "43csAE7BiUOs"
      },
      "source": [
        "Upload Multiple Images"
      ]
    },
    {
      "cell_type": "code",
      "execution_count": null,
      "metadata": {
        "colab": {
          "base_uri": "https://localhost:8080/"
        },
        "id": "i2UCxu8WiYRc",
        "outputId": "9162f942-9636-45a9-c3db-51d5bd08ec6b"
      },
      "outputs": [
        {
          "data": {
            "text/plain": [
              "{'upserted_count': 50}"
            ]
          },
          "execution_count": 29,
          "metadata": {},
          "output_type": "execute_result"
        }
      ],
      "source": [
        "from glob import glob\n",
        "\n",
        "image_paths = glob('/content/sample_data/*.jpg')\n",
        "vectors = []\n",
        "\n",
        "for i, img_path in enumerate(image_paths):\n",
        "    # Load and preprocess each image\n",
        "    image = Image.open(img_path).convert('RGB')\n",
        "    preprocessed_image = preprocess_val(image).unsqueeze(0).to(device)\n",
        "\n",
        "    with torch.no_grad():\n",
        "        image_embedding = model.encode_image(preprocessed_image).cpu().numpy().flatten()\n",
        "\n",
        "    vectors.append({\n",
        "        \"id\": f\"image_{i}\",\n",
        "        \"values\": image_embedding.tolist(),\n",
        "        \"metadata\": {\"type\": \"image\", \"description\": f\"Image {i}\"}\n",
        "    })\n",
        "\n",
        "# Batch upsert to Pinecone\n",
        "index.upsert(vectors=vectors, namespace=\"image_namespace\")\n"
      ]
    },
    {
      "cell_type": "markdown",
      "metadata": {
        "id": "VgV5x_PDkaNL"
      },
      "source": [
        "Query the Index"
      ]
    },
    {
      "cell_type": "code",
      "execution_count": 19,
      "metadata": {
        "colab": {
          "base_uri": "https://localhost:8080/"
        },
        "id": "NbzBCi-_ka6k",
        "outputId": "2319fd4a-14d9-4e04-e5bc-6a4cbe6b4c4e"
      },
      "outputs": [
        {
          "output_type": "stream",
          "name": "stdout",
          "text": [
            "ID: image_48, Score: 1.00039065, Metadata: {'description': 'Image 48', 'type': 'image'}\n",
            "ID: image_12, Score: 0.862112641, Metadata: {'description': 'Image 12', 'type': 'image'}\n",
            "ID: image_22, Score: 0.8399297, Metadata: {'description': 'Image 22', 'type': 'image'}\n",
            "ID: image_7, Score: 0.82713306, Metadata: {'description': 'Image 7', 'type': 'image'}\n",
            "ID: image_4, Score: 0.826842427, Metadata: {'description': 'Image 4', 'type': 'image'}\n"
          ]
        }
      ],
      "source": [
        "query_image_path = '/content/sample_data/2.jpg'\n",
        "query_image = Image.open(query_image_path).convert('RGB')\n",
        "query_image = preprocess_val(query_image).unsqueeze(0).to(device)\n",
        "\n",
        "with torch.no_grad():\n",
        "    query_embedding = model.encode_image(query_image).cpu().numpy().flatten()\n",
        "\n",
        "# Query Pinecone for similar images\n",
        "response = index.query(\n",
        "    vector=query_embedding.tolist(),\n",
        "    top_k=5,\n",
        "    include_metadata=True,\n",
        "    namespace=\"image_namespace\"\n",
        ")\n",
        "\n",
        "# results\n",
        "for match in response[\"matches\"]:\n",
        "    print(f\"ID: {match['id']}, Score: {match['score']}, Metadata: {match['metadata']}\")\n"
      ]
    },
    {
      "cell_type": "markdown",
      "source": [
        "**Check Drive Images**"
      ],
      "metadata": {
        "id": "cpItWhWx2Jw7"
      }
    },
    {
      "cell_type": "code",
      "source": [
        "# Install PyDrive\n",
        "!pip install -q PyDrive\n",
        "\n",
        "# Import Required Libraries\n",
        "from pydrive.auth import GoogleAuth\n",
        "from pydrive.drive import GoogleDrive\n",
        "import os\n",
        "\n",
        "# Authenticate and Initialize PyDrive\n",
        "from google.colab import auth\n",
        "auth.authenticate_user()\n",
        "\n",
        "from oauth2client.client import GoogleCredentials\n",
        "gauth = GoogleAuth()\n",
        "gauth.credentials = GoogleCredentials.get_application_default()\n",
        "drive = GoogleDrive(gauth)\n",
        "\n",
        "\n",
        "folder_id = \"1QFHa-2SdTsJesD0cXaMCJcIzW0YLyHIY\"\n",
        "\n",
        "\n",
        "file_list = drive.ListFile({'q': f\"'{folder_id}' in parents and trashed=false\"}).GetList()\n",
        "\n",
        "os.makedirs(\"Downloaded_Images\", exist_ok=True)\n",
        "\n",
        "image_links = []\n",
        "\n",
        "for file in file_list:\n",
        "    file_name = file['title']\n",
        "    file_link = f\"https://drive.google.com/uc?id={file['id']}\"\n",
        "    image_links.append(file_link)\n",
        "\n",
        "    file.GetContentFile(os.path.join(\"Downloaded_Images\", file_name))\n",
        "\n",
        "print(\"Image Links:\", image_links)\n"
      ],
      "metadata": {
        "colab": {
          "base_uri": "https://localhost:8080/"
        },
        "id": "aJQJHr4w2OiE",
        "outputId": "0a5183d5-9212-4173-e1e2-19d4ed002245"
      },
      "execution_count": null,
      "outputs": [
        {
          "output_type": "stream",
          "name": "stderr",
          "text": [
            "WARNING:root:pydrive is deprecated and no longer maintained. We recommend that you migrate your projects to pydrive2, the maintained fork of pydrive\n"
          ]
        },
        {
          "output_type": "stream",
          "name": "stdout",
          "text": [
            "Image Links: ['https://drive.google.com/uc?id=1nIrw9H-NDXhjO_8K0_Myzjp8tT_fONxW', 'https://drive.google.com/uc?id=1XMjTZ4NtKMkHXgJwhbBlpmbGL0QROTDA', 'https://drive.google.com/uc?id=1J6ALJHD2MSc5tI5Sod7r3AdlUnCsWQxu', 'https://drive.google.com/uc?id=1peTtrAZIFAX3g46erMA6aZoeSSXzVwrO', 'https://drive.google.com/uc?id=1uZe1BWLCuBLC5kQ2yq_VC5UhtpEm1vuN', 'https://drive.google.com/uc?id=1J4Cq5o8OTPr3lacf3GG4vX4XuYsBK1ns', 'https://drive.google.com/uc?id=1UN_LOwKydi_2dhlvv4nR00iTjr3PEGsu', 'https://drive.google.com/uc?id=1TSkrlof8XXjwhwFyj_WiSMIfXqf6QLiZ', 'https://drive.google.com/uc?id=1psngmmlrVROetpkaZ1DU4p5wTDOvo5q0', 'https://drive.google.com/uc?id=1XKFViNQOk2LCvYI5Qp7blVcnlRMn97y9', 'https://drive.google.com/uc?id=1Vt8IFHhKe8m3jo0ymj7WL1QA0nPuO9da', 'https://drive.google.com/uc?id=1eP5PSO2_0jiK_xK1X4d2jimLrryj4jGE', 'https://drive.google.com/uc?id=1tAUhhywMeFYM9GBV6XqYyfbAokVsz6S7', 'https://drive.google.com/uc?id=1aLH-Lwe8liEb6BivWogcs8BaF526e-g1', 'https://drive.google.com/uc?id=1XYTzMI6eqZDo_DmSoXuwhwseL884btes', 'https://drive.google.com/uc?id=1jB4FT-esHARBI0wFkgM2pqpPEb2x_eJr', 'https://drive.google.com/uc?id=11P0kZQr3L4CSzRd5Rlrj7CoWeLM4J92z', 'https://drive.google.com/uc?id=1KaQNi10CJEpYAfAR3z-HceLy3AXJLs6g', 'https://drive.google.com/uc?id=1hSmMW3jsGUIrGBZ9rSDc3i65qrdAww-C', 'https://drive.google.com/uc?id=1gf0XwXmxAhadQGt9bJ2LHeuzhOtBxqaJ', 'https://drive.google.com/uc?id=1WQJielsQ0cugpCF0srrkf7clTsxO8-Qo', 'https://drive.google.com/uc?id=1SD00dQGxuuy7iEw-6Kv5YI0gPFrkg-Cr', 'https://drive.google.com/uc?id=1DErnGjOtIQkRsXbdihyiHSa8K7iQtZmp', 'https://drive.google.com/uc?id=108KUJ-v2Tpajosf15AT752NCpP6e1bPS', 'https://drive.google.com/uc?id=1E9TcUXwgMafWUBM2u0bE-e_ivgMASBlX', 'https://drive.google.com/uc?id=1DgdcfC4OrHljMD1Rl9pW5bWXZ2RBN7hz', 'https://drive.google.com/uc?id=1fK1tddE6qXyXRx4jMq51SVoBKdSWAKdf', 'https://drive.google.com/uc?id=1rBJblGgAQNtoPYtVR6dYvOOFw1uwM_7o', 'https://drive.google.com/uc?id=1lnGQAsjqa-8NPWp3c-TO7fV76tNp3txO', 'https://drive.google.com/uc?id=1uirBTH35SxbA30H8N3zgK64WrmJIWSBh', 'https://drive.google.com/uc?id=1bmY2oQqpy8KDQCEd6Q68D7VBVWgq8e8-', 'https://drive.google.com/uc?id=1y6WfYI5vhoCZU2KYp7bkWTuJnmX_LoHs', 'https://drive.google.com/uc?id=1PiXH1DUVtuJmhsnKUA5dE7ggCiMi06RT', 'https://drive.google.com/uc?id=1ujG8n-8pOvuN2ZHo1KdVY4p3h0deIm4w', 'https://drive.google.com/uc?id=1lcDFPn3snYIX_67NrXkLTUP8YzJT_iPz', 'https://drive.google.com/uc?id=1DJbXe5Mwp6U3w5WTupWrTT8YEyRFzUPs', 'https://drive.google.com/uc?id=1EZIHmMNGAWaYkmRVIJyQGyP1Y_2oL-lZ', 'https://drive.google.com/uc?id=1Hf1KV0QmsMvymk5kpWqWVQMxj5wJSU-c', 'https://drive.google.com/uc?id=19vo3_OyxWp0kLvqeoS_A1uW7RDXGTgPn', 'https://drive.google.com/uc?id=1K18NSwnCiruE-fdsuRd1AH6XX7vlzCJc', 'https://drive.google.com/uc?id=1cWog2eKXO5pFURqJPcxBe6JERF3hdixj', 'https://drive.google.com/uc?id=1b9ZK6eh_aKLt_KthDLoUU-RQnW-e73pp', 'https://drive.google.com/uc?id=1-g2NvmmvMVhMfwFDIeIByfst9_XSpDie', 'https://drive.google.com/uc?id=1gJyXgMloiC2tbwU7m-VQ63C7MGx3vhO3', 'https://drive.google.com/uc?id=1CDmXwCjokpnQrjkDvZoZILP5e-7SnMae', 'https://drive.google.com/uc?id=1txBPZV2YaMy9hOzceJmNss8rni8NecYZ', 'https://drive.google.com/uc?id=1YXh9SoA9cS0Oea7HRD1uoEV4HCIw2fan', 'https://drive.google.com/uc?id=167rTHr5U_zhQofmzYv0PwTn-jQyiezNT', 'https://drive.google.com/uc?id=1IVhXcsCbMFMZPqdhYovwN_UqXi3MrO77', 'https://drive.google.com/uc?id=1c7V4eAFBmULEKf6Gbz1JsIiPiSZRN3F2']\n"
          ]
        }
      ]
    },
    {
      "cell_type": "code",
      "source": [
        "\n",
        "!pip install -q PyDrive\n",
        "\n",
        "\n",
        "from pydrive.auth import GoogleAuth\n",
        "from pydrive.drive import GoogleDrive\n",
        "import os\n",
        "\n",
        "# Authenticate and Initialize PyDrive\n",
        "from google.colab import auth\n",
        "auth.authenticate_user()\n",
        "\n",
        "from oauth2client.client import GoogleCredentials\n",
        "gauth = GoogleAuth()\n",
        "gauth.credentials = GoogleCredentials.get_application_default()\n",
        "drive = GoogleDrive(gauth)\n",
        "\n",
        "\n",
        "folder_id = \"1QFHa-2SdTsJesD0cXaMCJcIzW0YLyHIY\"\n",
        "\n",
        "file_list = drive.ListFile({'q': f\"'{folder_id}' in parents and trashed=false\"}).GetList()\n",
        "\n",
        "os.makedirs(\"Downloaded_Images\", exist_ok=True)\n",
        "\n",
        "image_links = []\n",
        "\n",
        "with open(\"image_links.txt\", \"w\") as link_file:\n",
        "    for file in file_list:\n",
        "        file_name = file['title']\n",
        "        file_link = f\"https://drive.google.com/uc?id={file['id']}\"\n",
        "        image_links.append(file_link)\n",
        "\n",
        "        link_file.write(f\"{file_name}: {file_link}\\n\")\n",
        "\n",
        "\n",
        "        file.GetContentFile(os.path.join(\"Downloaded_Images\", file_name))\n",
        "\n",
        "print(\"Links saved to 'image_links.txt'!\")\n"
      ],
      "metadata": {
        "colab": {
          "base_uri": "https://localhost:8080/"
        },
        "id": "0rdkGjUz3vNk",
        "outputId": "a13ba844-3fea-44e5-b4af-21973808d527"
      },
      "execution_count": null,
      "outputs": [
        {
          "output_type": "stream",
          "name": "stdout",
          "text": [
            "Links saved to 'image_links.txt'!\n"
          ]
        }
      ]
    }
  ],
  "metadata": {
    "colab": {
      "provenance": [],
      "authorship_tag": "ABX9TyOlD6D7q3/dr2PPASE9ZqhH",
      "include_colab_link": true
    },
    "kernelspec": {
      "display_name": "Python 3",
      "name": "python3"
    },
    "language_info": {
      "name": "python"
    },
    "widgets": {
      "application/vnd.jupyter.widget-state+json": {
        "4cdecb6442fe470da8becb2a075ebfe9": {
          "model_module": "@jupyter-widgets/controls",
          "model_name": "HBoxModel",
          "model_module_version": "1.5.0",
          "state": {
            "_dom_classes": [],
            "_model_module": "@jupyter-widgets/controls",
            "_model_module_version": "1.5.0",
            "_model_name": "HBoxModel",
            "_view_count": null,
            "_view_module": "@jupyter-widgets/controls",
            "_view_module_version": "1.5.0",
            "_view_name": "HBoxView",
            "box_style": "",
            "children": [
              "IPY_MODEL_d27753fe6e46496f9713cbd23283d35e",
              "IPY_MODEL_02cc5e444f0f4cab97db13e6a7b05c03",
              "IPY_MODEL_4c53067e9ec74d9fa0fe18ac655dc633"
            ],
            "layout": "IPY_MODEL_f5ada701d08b43aaa8889dd679b5747b"
          }
        },
        "d27753fe6e46496f9713cbd23283d35e": {
          "model_module": "@jupyter-widgets/controls",
          "model_name": "HTMLModel",
          "model_module_version": "1.5.0",
          "state": {
            "_dom_classes": [],
            "_model_module": "@jupyter-widgets/controls",
            "_model_module_version": "1.5.0",
            "_model_name": "HTMLModel",
            "_view_count": null,
            "_view_module": "@jupyter-widgets/controls",
            "_view_module_version": "1.5.0",
            "_view_name": "HTMLView",
            "description": "",
            "description_tooltip": null,
            "layout": "IPY_MODEL_833fd66f5a1c4b538693e29f664c342c",
            "placeholder": "​",
            "style": "IPY_MODEL_f681b980813c43b2acaeb96638ab88d6",
            "value": "open_clip_pytorch_model.bin: 100%"
          }
        },
        "02cc5e444f0f4cab97db13e6a7b05c03": {
          "model_module": "@jupyter-widgets/controls",
          "model_name": "FloatProgressModel",
          "model_module_version": "1.5.0",
          "state": {
            "_dom_classes": [],
            "_model_module": "@jupyter-widgets/controls",
            "_model_module_version": "1.5.0",
            "_model_name": "FloatProgressModel",
            "_view_count": null,
            "_view_module": "@jupyter-widgets/controls",
            "_view_module_version": "1.5.0",
            "_view_name": "ProgressView",
            "bar_style": "success",
            "description": "",
            "description_tooltip": null,
            "layout": "IPY_MODEL_3cf273e8a5da4a758ac9e2ee5ab90a8f",
            "max": 605219813,
            "min": 0,
            "orientation": "horizontal",
            "style": "IPY_MODEL_5b5a6963af314690bbc23d1f814231b6",
            "value": 605219813
          }
        },
        "4c53067e9ec74d9fa0fe18ac655dc633": {
          "model_module": "@jupyter-widgets/controls",
          "model_name": "HTMLModel",
          "model_module_version": "1.5.0",
          "state": {
            "_dom_classes": [],
            "_model_module": "@jupyter-widgets/controls",
            "_model_module_version": "1.5.0",
            "_model_name": "HTMLModel",
            "_view_count": null,
            "_view_module": "@jupyter-widgets/controls",
            "_view_module_version": "1.5.0",
            "_view_name": "HTMLView",
            "description": "",
            "description_tooltip": null,
            "layout": "IPY_MODEL_22f7393d6a084e69a7f1b643bf4acc99",
            "placeholder": "​",
            "style": "IPY_MODEL_6b0926ee8db84daa993125ae2e8b2a9d",
            "value": " 605M/605M [00:07&lt;00:00, 93.0MB/s]"
          }
        },
        "f5ada701d08b43aaa8889dd679b5747b": {
          "model_module": "@jupyter-widgets/base",
          "model_name": "LayoutModel",
          "model_module_version": "1.2.0",
          "state": {
            "_model_module": "@jupyter-widgets/base",
            "_model_module_version": "1.2.0",
            "_model_name": "LayoutModel",
            "_view_count": null,
            "_view_module": "@jupyter-widgets/base",
            "_view_module_version": "1.2.0",
            "_view_name": "LayoutView",
            "align_content": null,
            "align_items": null,
            "align_self": null,
            "border": null,
            "bottom": null,
            "display": null,
            "flex": null,
            "flex_flow": null,
            "grid_area": null,
            "grid_auto_columns": null,
            "grid_auto_flow": null,
            "grid_auto_rows": null,
            "grid_column": null,
            "grid_gap": null,
            "grid_row": null,
            "grid_template_areas": null,
            "grid_template_columns": null,
            "grid_template_rows": null,
            "height": null,
            "justify_content": null,
            "justify_items": null,
            "left": null,
            "margin": null,
            "max_height": null,
            "max_width": null,
            "min_height": null,
            "min_width": null,
            "object_fit": null,
            "object_position": null,
            "order": null,
            "overflow": null,
            "overflow_x": null,
            "overflow_y": null,
            "padding": null,
            "right": null,
            "top": null,
            "visibility": null,
            "width": null
          }
        },
        "833fd66f5a1c4b538693e29f664c342c": {
          "model_module": "@jupyter-widgets/base",
          "model_name": "LayoutModel",
          "model_module_version": "1.2.0",
          "state": {
            "_model_module": "@jupyter-widgets/base",
            "_model_module_version": "1.2.0",
            "_model_name": "LayoutModel",
            "_view_count": null,
            "_view_module": "@jupyter-widgets/base",
            "_view_module_version": "1.2.0",
            "_view_name": "LayoutView",
            "align_content": null,
            "align_items": null,
            "align_self": null,
            "border": null,
            "bottom": null,
            "display": null,
            "flex": null,
            "flex_flow": null,
            "grid_area": null,
            "grid_auto_columns": null,
            "grid_auto_flow": null,
            "grid_auto_rows": null,
            "grid_column": null,
            "grid_gap": null,
            "grid_row": null,
            "grid_template_areas": null,
            "grid_template_columns": null,
            "grid_template_rows": null,
            "height": null,
            "justify_content": null,
            "justify_items": null,
            "left": null,
            "margin": null,
            "max_height": null,
            "max_width": null,
            "min_height": null,
            "min_width": null,
            "object_fit": null,
            "object_position": null,
            "order": null,
            "overflow": null,
            "overflow_x": null,
            "overflow_y": null,
            "padding": null,
            "right": null,
            "top": null,
            "visibility": null,
            "width": null
          }
        },
        "f681b980813c43b2acaeb96638ab88d6": {
          "model_module": "@jupyter-widgets/controls",
          "model_name": "DescriptionStyleModel",
          "model_module_version": "1.5.0",
          "state": {
            "_model_module": "@jupyter-widgets/controls",
            "_model_module_version": "1.5.0",
            "_model_name": "DescriptionStyleModel",
            "_view_count": null,
            "_view_module": "@jupyter-widgets/base",
            "_view_module_version": "1.2.0",
            "_view_name": "StyleView",
            "description_width": ""
          }
        },
        "3cf273e8a5da4a758ac9e2ee5ab90a8f": {
          "model_module": "@jupyter-widgets/base",
          "model_name": "LayoutModel",
          "model_module_version": "1.2.0",
          "state": {
            "_model_module": "@jupyter-widgets/base",
            "_model_module_version": "1.2.0",
            "_model_name": "LayoutModel",
            "_view_count": null,
            "_view_module": "@jupyter-widgets/base",
            "_view_module_version": "1.2.0",
            "_view_name": "LayoutView",
            "align_content": null,
            "align_items": null,
            "align_self": null,
            "border": null,
            "bottom": null,
            "display": null,
            "flex": null,
            "flex_flow": null,
            "grid_area": null,
            "grid_auto_columns": null,
            "grid_auto_flow": null,
            "grid_auto_rows": null,
            "grid_column": null,
            "grid_gap": null,
            "grid_row": null,
            "grid_template_areas": null,
            "grid_template_columns": null,
            "grid_template_rows": null,
            "height": null,
            "justify_content": null,
            "justify_items": null,
            "left": null,
            "margin": null,
            "max_height": null,
            "max_width": null,
            "min_height": null,
            "min_width": null,
            "object_fit": null,
            "object_position": null,
            "order": null,
            "overflow": null,
            "overflow_x": null,
            "overflow_y": null,
            "padding": null,
            "right": null,
            "top": null,
            "visibility": null,
            "width": null
          }
        },
        "5b5a6963af314690bbc23d1f814231b6": {
          "model_module": "@jupyter-widgets/controls",
          "model_name": "ProgressStyleModel",
          "model_module_version": "1.5.0",
          "state": {
            "_model_module": "@jupyter-widgets/controls",
            "_model_module_version": "1.5.0",
            "_model_name": "ProgressStyleModel",
            "_view_count": null,
            "_view_module": "@jupyter-widgets/base",
            "_view_module_version": "1.2.0",
            "_view_name": "StyleView",
            "bar_color": null,
            "description_width": ""
          }
        },
        "22f7393d6a084e69a7f1b643bf4acc99": {
          "model_module": "@jupyter-widgets/base",
          "model_name": "LayoutModel",
          "model_module_version": "1.2.0",
          "state": {
            "_model_module": "@jupyter-widgets/base",
            "_model_module_version": "1.2.0",
            "_model_name": "LayoutModel",
            "_view_count": null,
            "_view_module": "@jupyter-widgets/base",
            "_view_module_version": "1.2.0",
            "_view_name": "LayoutView",
            "align_content": null,
            "align_items": null,
            "align_self": null,
            "border": null,
            "bottom": null,
            "display": null,
            "flex": null,
            "flex_flow": null,
            "grid_area": null,
            "grid_auto_columns": null,
            "grid_auto_flow": null,
            "grid_auto_rows": null,
            "grid_column": null,
            "grid_gap": null,
            "grid_row": null,
            "grid_template_areas": null,
            "grid_template_columns": null,
            "grid_template_rows": null,
            "height": null,
            "justify_content": null,
            "justify_items": null,
            "left": null,
            "margin": null,
            "max_height": null,
            "max_width": null,
            "min_height": null,
            "min_width": null,
            "object_fit": null,
            "object_position": null,
            "order": null,
            "overflow": null,
            "overflow_x": null,
            "overflow_y": null,
            "padding": null,
            "right": null,
            "top": null,
            "visibility": null,
            "width": null
          }
        },
        "6b0926ee8db84daa993125ae2e8b2a9d": {
          "model_module": "@jupyter-widgets/controls",
          "model_name": "DescriptionStyleModel",
          "model_module_version": "1.5.0",
          "state": {
            "_model_module": "@jupyter-widgets/controls",
            "_model_module_version": "1.5.0",
            "_model_name": "DescriptionStyleModel",
            "_view_count": null,
            "_view_module": "@jupyter-widgets/base",
            "_view_module_version": "1.2.0",
            "_view_name": "StyleView",
            "description_width": ""
          }
        },
        "577358296fd9467ea7f70a800855eb11": {
          "model_module": "@jupyter-widgets/controls",
          "model_name": "HBoxModel",
          "model_module_version": "1.5.0",
          "state": {
            "_dom_classes": [],
            "_model_module": "@jupyter-widgets/controls",
            "_model_module_version": "1.5.0",
            "_model_name": "HBoxModel",
            "_view_count": null,
            "_view_module": "@jupyter-widgets/controls",
            "_view_module_version": "1.5.0",
            "_view_name": "HBoxView",
            "box_style": "",
            "children": [
              "IPY_MODEL_68c107eead2b4d5b9330e36a91a9ee03",
              "IPY_MODEL_dc7c8a7aab074560a4273507c5adc62c",
              "IPY_MODEL_fc227f05db1d42b0bd957142c2180e74"
            ],
            "layout": "IPY_MODEL_3910ee86fa6140f9a6d297b4027e5d5f"
          }
        },
        "68c107eead2b4d5b9330e36a91a9ee03": {
          "model_module": "@jupyter-widgets/controls",
          "model_name": "HTMLModel",
          "model_module_version": "1.5.0",
          "state": {
            "_dom_classes": [],
            "_model_module": "@jupyter-widgets/controls",
            "_model_module_version": "1.5.0",
            "_model_name": "HTMLModel",
            "_view_count": null,
            "_view_module": "@jupyter-widgets/controls",
            "_view_module_version": "1.5.0",
            "_view_name": "HTMLView",
            "description": "",
            "description_tooltip": null,
            "layout": "IPY_MODEL_6f969598fd8341eabae782f4f53b0b27",
            "placeholder": "​",
            "style": "IPY_MODEL_153276c0d6ba4f9e86d04ccd97d939bd",
            "value": "open_clip_config.json: 100%"
          }
        },
        "dc7c8a7aab074560a4273507c5adc62c": {
          "model_module": "@jupyter-widgets/controls",
          "model_name": "FloatProgressModel",
          "model_module_version": "1.5.0",
          "state": {
            "_dom_classes": [],
            "_model_module": "@jupyter-widgets/controls",
            "_model_module_version": "1.5.0",
            "_model_name": "FloatProgressModel",
            "_view_count": null,
            "_view_module": "@jupyter-widgets/controls",
            "_view_module_version": "1.5.0",
            "_view_name": "ProgressView",
            "bar_style": "success",
            "description": "",
            "description_tooltip": null,
            "layout": "IPY_MODEL_5280e372450c41d283f2e7e7b3719338",
            "max": 604,
            "min": 0,
            "orientation": "horizontal",
            "style": "IPY_MODEL_a8a785b215f747c5895ce4311d3fc162",
            "value": 604
          }
        },
        "fc227f05db1d42b0bd957142c2180e74": {
          "model_module": "@jupyter-widgets/controls",
          "model_name": "HTMLModel",
          "model_module_version": "1.5.0",
          "state": {
            "_dom_classes": [],
            "_model_module": "@jupyter-widgets/controls",
            "_model_module_version": "1.5.0",
            "_model_name": "HTMLModel",
            "_view_count": null,
            "_view_module": "@jupyter-widgets/controls",
            "_view_module_version": "1.5.0",
            "_view_name": "HTMLView",
            "description": "",
            "description_tooltip": null,
            "layout": "IPY_MODEL_2a1751dab2124784962b17ed15b20514",
            "placeholder": "​",
            "style": "IPY_MODEL_4c761bcaf0a8426b9a0555808f4385c3",
            "value": " 604/604 [00:00&lt;00:00, 11.5kB/s]"
          }
        },
        "3910ee86fa6140f9a6d297b4027e5d5f": {
          "model_module": "@jupyter-widgets/base",
          "model_name": "LayoutModel",
          "model_module_version": "1.2.0",
          "state": {
            "_model_module": "@jupyter-widgets/base",
            "_model_module_version": "1.2.0",
            "_model_name": "LayoutModel",
            "_view_count": null,
            "_view_module": "@jupyter-widgets/base",
            "_view_module_version": "1.2.0",
            "_view_name": "LayoutView",
            "align_content": null,
            "align_items": null,
            "align_self": null,
            "border": null,
            "bottom": null,
            "display": null,
            "flex": null,
            "flex_flow": null,
            "grid_area": null,
            "grid_auto_columns": null,
            "grid_auto_flow": null,
            "grid_auto_rows": null,
            "grid_column": null,
            "grid_gap": null,
            "grid_row": null,
            "grid_template_areas": null,
            "grid_template_columns": null,
            "grid_template_rows": null,
            "height": null,
            "justify_content": null,
            "justify_items": null,
            "left": null,
            "margin": null,
            "max_height": null,
            "max_width": null,
            "min_height": null,
            "min_width": null,
            "object_fit": null,
            "object_position": null,
            "order": null,
            "overflow": null,
            "overflow_x": null,
            "overflow_y": null,
            "padding": null,
            "right": null,
            "top": null,
            "visibility": null,
            "width": null
          }
        },
        "6f969598fd8341eabae782f4f53b0b27": {
          "model_module": "@jupyter-widgets/base",
          "model_name": "LayoutModel",
          "model_module_version": "1.2.0",
          "state": {
            "_model_module": "@jupyter-widgets/base",
            "_model_module_version": "1.2.0",
            "_model_name": "LayoutModel",
            "_view_count": null,
            "_view_module": "@jupyter-widgets/base",
            "_view_module_version": "1.2.0",
            "_view_name": "LayoutView",
            "align_content": null,
            "align_items": null,
            "align_self": null,
            "border": null,
            "bottom": null,
            "display": null,
            "flex": null,
            "flex_flow": null,
            "grid_area": null,
            "grid_auto_columns": null,
            "grid_auto_flow": null,
            "grid_auto_rows": null,
            "grid_column": null,
            "grid_gap": null,
            "grid_row": null,
            "grid_template_areas": null,
            "grid_template_columns": null,
            "grid_template_rows": null,
            "height": null,
            "justify_content": null,
            "justify_items": null,
            "left": null,
            "margin": null,
            "max_height": null,
            "max_width": null,
            "min_height": null,
            "min_width": null,
            "object_fit": null,
            "object_position": null,
            "order": null,
            "overflow": null,
            "overflow_x": null,
            "overflow_y": null,
            "padding": null,
            "right": null,
            "top": null,
            "visibility": null,
            "width": null
          }
        },
        "153276c0d6ba4f9e86d04ccd97d939bd": {
          "model_module": "@jupyter-widgets/controls",
          "model_name": "DescriptionStyleModel",
          "model_module_version": "1.5.0",
          "state": {
            "_model_module": "@jupyter-widgets/controls",
            "_model_module_version": "1.5.0",
            "_model_name": "DescriptionStyleModel",
            "_view_count": null,
            "_view_module": "@jupyter-widgets/base",
            "_view_module_version": "1.2.0",
            "_view_name": "StyleView",
            "description_width": ""
          }
        },
        "5280e372450c41d283f2e7e7b3719338": {
          "model_module": "@jupyter-widgets/base",
          "model_name": "LayoutModel",
          "model_module_version": "1.2.0",
          "state": {
            "_model_module": "@jupyter-widgets/base",
            "_model_module_version": "1.2.0",
            "_model_name": "LayoutModel",
            "_view_count": null,
            "_view_module": "@jupyter-widgets/base",
            "_view_module_version": "1.2.0",
            "_view_name": "LayoutView",
            "align_content": null,
            "align_items": null,
            "align_self": null,
            "border": null,
            "bottom": null,
            "display": null,
            "flex": null,
            "flex_flow": null,
            "grid_area": null,
            "grid_auto_columns": null,
            "grid_auto_flow": null,
            "grid_auto_rows": null,
            "grid_column": null,
            "grid_gap": null,
            "grid_row": null,
            "grid_template_areas": null,
            "grid_template_columns": null,
            "grid_template_rows": null,
            "height": null,
            "justify_content": null,
            "justify_items": null,
            "left": null,
            "margin": null,
            "max_height": null,
            "max_width": null,
            "min_height": null,
            "min_width": null,
            "object_fit": null,
            "object_position": null,
            "order": null,
            "overflow": null,
            "overflow_x": null,
            "overflow_y": null,
            "padding": null,
            "right": null,
            "top": null,
            "visibility": null,
            "width": null
          }
        },
        "a8a785b215f747c5895ce4311d3fc162": {
          "model_module": "@jupyter-widgets/controls",
          "model_name": "ProgressStyleModel",
          "model_module_version": "1.5.0",
          "state": {
            "_model_module": "@jupyter-widgets/controls",
            "_model_module_version": "1.5.0",
            "_model_name": "ProgressStyleModel",
            "_view_count": null,
            "_view_module": "@jupyter-widgets/base",
            "_view_module_version": "1.2.0",
            "_view_name": "StyleView",
            "bar_color": null,
            "description_width": ""
          }
        },
        "2a1751dab2124784962b17ed15b20514": {
          "model_module": "@jupyter-widgets/base",
          "model_name": "LayoutModel",
          "model_module_version": "1.2.0",
          "state": {
            "_model_module": "@jupyter-widgets/base",
            "_model_module_version": "1.2.0",
            "_model_name": "LayoutModel",
            "_view_count": null,
            "_view_module": "@jupyter-widgets/base",
            "_view_module_version": "1.2.0",
            "_view_name": "LayoutView",
            "align_content": null,
            "align_items": null,
            "align_self": null,
            "border": null,
            "bottom": null,
            "display": null,
            "flex": null,
            "flex_flow": null,
            "grid_area": null,
            "grid_auto_columns": null,
            "grid_auto_flow": null,
            "grid_auto_rows": null,
            "grid_column": null,
            "grid_gap": null,
            "grid_row": null,
            "grid_template_areas": null,
            "grid_template_columns": null,
            "grid_template_rows": null,
            "height": null,
            "justify_content": null,
            "justify_items": null,
            "left": null,
            "margin": null,
            "max_height": null,
            "max_width": null,
            "min_height": null,
            "min_width": null,
            "object_fit": null,
            "object_position": null,
            "order": null,
            "overflow": null,
            "overflow_x": null,
            "overflow_y": null,
            "padding": null,
            "right": null,
            "top": null,
            "visibility": null,
            "width": null
          }
        },
        "4c761bcaf0a8426b9a0555808f4385c3": {
          "model_module": "@jupyter-widgets/controls",
          "model_name": "DescriptionStyleModel",
          "model_module_version": "1.5.0",
          "state": {
            "_model_module": "@jupyter-widgets/controls",
            "_model_module_version": "1.5.0",
            "_model_name": "DescriptionStyleModel",
            "_view_count": null,
            "_view_module": "@jupyter-widgets/base",
            "_view_module_version": "1.2.0",
            "_view_name": "StyleView",
            "description_width": ""
          }
        }
      }
    }
  },
  "nbformat": 4,
  "nbformat_minor": 0
}